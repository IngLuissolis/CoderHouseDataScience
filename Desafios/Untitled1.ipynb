{
 "cells": [
  {
   "cell_type": "code",
   "execution_count": null,
   "id": "efd14ec8",
   "metadata": {},
   "outputs": [],
   "source": [
    "# Abstracto - Vendeme esta Pluma!!!\n",
    "'''\n",
    "Motivación: El análisis de datos en el fútbol ha ganado una gran importancia en los últimos años, ya que proporciona \n",
    "información valiosa sobre el desempeño de los jugadores y equipos. En este contexto, el presente conjunto de datos \n",
    "ofrece una amplia variedad de variables que capturan diversos aspectos del juego. Describir estas variables de manera \n",
    "precisa y comprensible es fundamental para que entrenadores, analistas y aficionados puedan interpretar y utilizar la \n",
    "información de manera efectiva.\n",
    "\n",
    "Audiencia: Este resumen está dirigido a entrenadores, analistas y aficionados del fútbol que estén interesados en comprender\n",
    "y utilizar el conjunto de datos proporcionado. La descripción detallada de las variables les permitirá tener una visión \n",
    "general de la información disponible y utilizarla para evaluar el rendimiento de los jugadores en diferentes aspectos \n",
    "del juego, como goles, tiros, pases, regates, defensa, entre otros. Además, este resumen también puede ser útil para \n",
    "investigadores o estudiantes que estén interesados en el análisis de datos en el fútbol y deseen explorar más a fondo el \n",
    "conjunto de datos proporcionado.\n",
    "'''"
   ]
  },
  {
   "cell_type": "code",
   "execution_count": null,
   "id": "30d16422",
   "metadata": {},
   "outputs": [],
   "source": [
    "#Preguntas / Hipotesis\n",
    "'''\n",
    "Algunas posibles preguntas/hipótesis que podríamos resolver mediante el análisis de los datos descritos podrían ser:\n",
    "\n",
    "1. ¿Cuáles son los jugadores más efectivos en términos de goles marcados? ¿Existen diferencias significativas entre \n",
    "los distintos equipos en cuanto a la producción de goles?\n",
    "2. ¿Existe una relación entre la precisión de los pases de un jugador y su capacidad para crear oportunidades de gol \n",
    "para su equipo?\n",
    "3. ¿Cuál es el porcentaje de éxito de los regates realizados por los jugadores? ¿Algunos jugadores destacan por su habilidad\n",
    "para eludir a los defensores?\n",
    "4. ¿Qué jugadores tienen la mejor capacidad defensiva en términos de bloqueo de tiros y recuperación de balones?\n",
    "5. ¿Existe alguna correlación entre la edad de los jugadores y su rendimiento en el campo?\n",
    "6. ¿Hay diferencias significativas en el rendimiento de los jugadores en función de su posición en el campo (delantero, \n",
    "centrocampista, defensor, portero)?\n",
    "7. ¿Existe alguna relación entre la altura de los jugadores y su capacidad para ganar duelos aéreos?\n",
    "8. ¿Cuál es el equipo con el mejor desempeño general en términos de todas las variables analizadas?\n",
    "\n",
    "Estas preguntas y hipótesis son solo ejemplos y podrían variar dependiendo de los intereses y objetivos específicos del \n",
    "análisis de datos que se realice.\n",
    "'''"
   ]
  },
  {
   "cell_type": "code",
   "execution_count": null,
   "id": "0ed22d2a",
   "metadata": {},
   "outputs": [],
   "source": [
    "'''\n",
    "Objetivo: \n",
    "Analizar el rendimiento de los jugadores y equipos de fútbol utilizando variables como goles marcados, \n",
    "precisión de pases, regates exitosos, habilidades defensivas, edad, posición en el campo, altura, entre otros, con el fin \n",
    "de identificar patrones y relaciones significativas. Además, determinar el equipo con el mejor desempeño general en función \n",
    "de todas las variables analizadas.\n",
    "\n",
    "Contexto Comercial:\n",
    "En el contexto comercial, nos encontramos en la industria del fútbol y nuestro objetivo es proporcionar información y \n",
    "análisis útiles para diferentes actores dentro de este ámbito. Esto puede incluir clubes de fútbol, directores técnicos, \n",
    "agentes de jugadores y otros profesionales involucrados en la toma de decisiones estratégicas y operativas.\n",
    "\n",
    "Problema Comercial:\n",
    "El problema comercial que abordamos es la necesidad de comprender y evaluar el rendimiento de los jugadores y equipos de \n",
    "fútbol en función de diversas variables. Esto es crucial para la identificación de talentos, la selección de jugadores, el \n",
    "análisis comparativo de equipos y la toma de decisiones relacionadas con el desarrollo de estrategias de juego y fichajes.\n",
    "\n",
    "Contexto Analítico:\n",
    "En el contexto analítico, utilizaremos técnicas de análisis de datos para examinar y comprender los patrones, tendencias y \n",
    "relaciones existentes en los datos recopilados. Aplicaremos métodos estadísticos y de visualización para explorar las \n",
    "variables relevantes y extraer información significativa que pueda respaldar la toma de decisiones en el ámbito futbolístico.\n",
    "\n",
    "Exploración de Datos (EDA):\n",
    "La exploración de datos (EDA) se llevará a cabo mediante el análisis detallado de las variables disponibles, utilizando \n",
    "herramientas y técnicas de programación en Python. Realizaremos cálculos estadísticos, visualizaciones gráficas y otras \n",
    "técnicas exploratorias para comprender mejor el comportamiento de los jugadores y equipos en términos de goles marcados, \n",
    "precisión de pases, regates exitosos, habilidades defensivas, edad, posición en el campo, altura y otras variables relevantes.\n",
    "\n",
    "A través de este análisis, buscamos descubrir patrones, correlaciones y tendencias significativas que puedan brindar \n",
    "insights valiosos para los actores involucrados en la industria del fútbol y ayudarles a tomar decisiones más informadas \n",
    "y estratégicas.\n",
    "'''"
   ]
  },
  {
   "cell_type": "code",
   "execution_count": null,
   "id": "ef3d57e4",
   "metadata": {},
   "outputs": [],
   "source": [
    "#Analisis Exploratorio de Datos (EDA)"
   ]
  },
  {
   "cell_type": "code",
   "execution_count": null,
   "id": "b7acd746",
   "metadata": {},
   "outputs": [],
   "source": [
    "import pandas as pd\n",
    "import numpy as np\n",
    "import matplotlib.pyplot as plt\n",
    "import seaborn as sns\n",
    "\n",
    "ruta_archivo = '../DataSets/2022-2023FootballPlayerStats.csv'\n",
    "df = pd.read_csv(ruta_archivo, encoding='ISO-8859-1', delimiter=';')\n",
    "\n",
    "# Ver las primeras filas del dataset\n",
    "print(df.head())"
   ]
  }
 ],
 "metadata": {
  "kernelspec": {
   "display_name": "Python 3 (ipykernel)",
   "language": "python",
   "name": "python3"
  },
  "language_info": {
   "codemirror_mode": {
    "name": "ipython",
    "version": 3
   },
   "file_extension": ".py",
   "mimetype": "text/x-python",
   "name": "python",
   "nbconvert_exporter": "python",
   "pygments_lexer": "ipython3",
   "version": "3.8.3"
  }
 },
 "nbformat": 4,
 "nbformat_minor": 5
}
