{
 "cells": [
  {
   "cell_type": "code",
   "execution_count": 1,
   "id": "af3bc950",
   "metadata": {},
   "outputs": [
    {
     "data": {
      "text/plain": [
       "'\\nMotivación: El análisis de datos en el fútbol ha ganado una gran importancia en los últimos años, ya que proporciona \\ninformación valiosa sobre el desempeño de los jugadores y equipos. En este contexto, el presente conjunto de datos \\nofrece una amplia variedad de variables que capturan diversos aspectos del juego. Describir estas variables de manera \\nprecisa y comprensible es fundamental para que entrenadores, analistas y aficionados puedan interpretar y utilizar la \\ninformación de manera efectiva.\\n\\nAudiencia: Este resumen está dirigido a entrenadores, analistas y aficionados del fútbol que estén interesados en comprender\\ny utilizar el conjunto de datos proporcionado. La descripción detallada de las variables les permitirá tener una visión \\ngeneral de la información disponible y utilizarla para evaluar el rendimiento de los jugadores en diferentes aspectos \\ndel juego, como goles, tiros, pases, regates, defensa, entre otros. Además, este resumen también puede ser útil para \\ninvestigadores o estudiantes que estén interesados en el análisis de datos en el fútbol y deseen explorar más a fondo el \\nconjunto de datos proporcionado.\\n'"
      ]
     },
     "execution_count": 1,
     "metadata": {},
     "output_type": "execute_result"
    }
   ],
   "source": [
    "# Abstracto - Vendeme esta Pluma!!!\n",
    "'''\n",
    "Motivación: El análisis de datos en el fútbol ha ganado una gran importancia en los últimos años, ya que proporciona \n",
    "información valiosa sobre el desempeño de los jugadores y equipos. En este contexto, el presente conjunto de datos \n",
    "ofrece una amplia variedad de variables que capturan diversos aspectos del juego. Describir estas variables de manera \n",
    "precisa y comprensible es fundamental para que entrenadores, analistas y aficionados puedan interpretar y utilizar la \n",
    "información de manera efectiva.\n",
    "\n",
    "Audiencia: Este resumen está dirigido a entrenadores, analistas y aficionados del fútbol que estén interesados en comprender\n",
    "y utilizar el conjunto de datos proporcionado. La descripción detallada de las variables les permitirá tener una visión \n",
    "general de la información disponible y utilizarla para evaluar el rendimiento de los jugadores en diferentes aspectos \n",
    "del juego, como goles, tiros, pases, regates, defensa, entre otros. Además, este resumen también puede ser útil para \n",
    "investigadores o estudiantes que estén interesados en el análisis de datos en el fútbol y deseen explorar más a fondo el \n",
    "conjunto de datos proporcionado.\n",
    "'''"
   ]
  },
  {
   "cell_type": "code",
   "execution_count": 2,
   "id": "8ad9ca38",
   "metadata": {},
   "outputs": [
    {
     "data": {
      "text/plain": [
       "'\\nAlgunas posibles preguntas/hipótesis que podríamos resolver mediante el análisis de los datos descritos podrían ser:\\n\\n1. ¿Cuáles son los jugadores más efectivos en términos de goles marcados? ¿Existen diferencias significativas entre \\nlos distintos equipos en cuanto a la producción de goles?\\n2. ¿Existe una relación entre la precisión de los pases de un jugador y su capacidad para crear oportunidades de gol \\npara su equipo?\\n3. ¿Cuál es el porcentaje de éxito de los regates realizados por los jugadores? ¿Algunos jugadores destacan por su habilidad\\npara eludir a los defensores?\\n4. ¿Qué jugadores tienen la mejor capacidad defensiva en términos de bloqueo de tiros y recuperación de balones?\\n5. ¿Existe alguna correlación entre la edad de los jugadores y su rendimiento en el campo?\\n6. ¿Hay diferencias significativas en el rendimiento de los jugadores en función de su posición en el campo (delantero, \\ncentrocampista, defensor, portero)?\\n7. ¿Existe alguna relación entre la altura de los jugadores y su capacidad para ganar duelos aéreos?\\n8. ¿Cuál es el equipo con el mejor desempeño general en términos de todas las variables analizadas?\\n\\nEstas preguntas y hipótesis son solo ejemplos y podrían variar dependiendo de los intereses y objetivos específicos del \\nanálisis de datos que se realice.\\n'"
      ]
     },
     "execution_count": 2,
     "metadata": {},
     "output_type": "execute_result"
    }
   ],
   "source": [
    "#Preguntas / Hipotesis\n",
    "'''\n",
    "Algunas posibles preguntas/hipótesis que podríamos resolver mediante el análisis de los datos descritos podrían ser:\n",
    "\n",
    "1. ¿Cuáles son los jugadores más efectivos en términos de goles marcados? ¿Existen diferencias significativas entre \n",
    "los distintos equipos en cuanto a la producción de goles?\n",
    "2. ¿Existe una relación entre la precisión de los pases de un jugador y su capacidad para crear oportunidades de gol \n",
    "para su equipo?\n",
    "3. ¿Cuál es el porcentaje de éxito de los regates realizados por los jugadores? ¿Algunos jugadores destacan por su habilidad\n",
    "para eludir a los defensores?\n",
    "4. ¿Qué jugadores tienen la mejor capacidad defensiva en términos de bloqueo de tiros y recuperación de balones?\n",
    "5. ¿Existe alguna correlación entre la edad de los jugadores y su rendimiento en el campo?\n",
    "6. ¿Hay diferencias significativas en el rendimiento de los jugadores en función de su posición en el campo (delantero, \n",
    "centrocampista, defensor, portero)?\n",
    "7. ¿Existe alguna relación entre la altura de los jugadores y su capacidad para ganar duelos aéreos?\n",
    "8. ¿Cuál es el equipo con el mejor desempeño general en términos de todas las variables analizadas?\n",
    "\n",
    "Estas preguntas y hipótesis son solo ejemplos y podrían variar dependiendo de los intereses y objetivos específicos del \n",
    "análisis de datos que se realice.\n",
    "'''"
   ]
  },
  {
   "cell_type": "code",
   "execution_count": 3,
   "id": "cf50508f",
   "metadata": {},
   "outputs": [
    {
     "data": {
      "text/plain": [
       "'\\nObjetivo: \\nAnalizar el rendimiento de los jugadores y equipos de fútbol utilizando variables como goles marcados, \\nprecisión de pases, regates exitosos, habilidades defensivas, edad, posición en el campo, altura, entre otros, con el fin \\nde identificar patrones y relaciones significativas. Además, determinar el equipo con el mejor desempeño general en función \\nde todas las variables analizadas.\\n\\nContexto Comercial:\\nEn el contexto comercial, nos encontramos en la industria del fútbol y nuestro objetivo es proporcionar información y \\nanálisis útiles para diferentes actores dentro de este ámbito. Esto puede incluir clubes de fútbol, directores técnicos, \\nagentes de jugadores y otros profesionales involucrados en la toma de decisiones estratégicas y operativas.\\n\\nProblema Comercial:\\nEl problema comercial que abordamos es la necesidad de comprender y evaluar el rendimiento de los jugadores y equipos de \\nfútbol en función de diversas variables. Esto es crucial para la identificación de talentos, la selección de jugadores, el \\nanálisis comparativo de equipos y la toma de decisiones relacionadas con el desarrollo de estrategias de juego y fichajes.\\n\\nContexto Analítico:\\nEn el contexto analítico, utilizaremos técnicas de análisis de datos para examinar y comprender los patrones, tendencias y \\nrelaciones existentes en los datos recopilados. Aplicaremos métodos estadísticos y de visualización para explorar las \\nvariables relevantes y extraer información significativa que pueda respaldar la toma de decisiones en el ámbito futbolístico.\\n\\nExploración de Datos (EDA):\\nLa exploración de datos (EDA) se llevará a cabo mediante el análisis detallado de las variables disponibles, utilizando \\nherramientas y técnicas de programación en Python. Realizaremos cálculos estadísticos, visualizaciones gráficas y otras \\ntécnicas exploratorias para comprender mejor el comportamiento de los jugadores y equipos en términos de goles marcados, \\nprecisión de pases, regates exitosos, habilidades defensivas, edad, posición en el campo, altura y otras variables relevantes.\\n\\nA través de este análisis, buscamos descubrir patrones, correlaciones y tendencias significativas que puedan brindar \\ninsights valiosos para los actores involucrados en la industria del fútbol y ayudarles a tomar decisiones más informadas \\ny estratégicas.\\n'"
      ]
     },
     "execution_count": 3,
     "metadata": {},
     "output_type": "execute_result"
    }
   ],
   "source": [
    "'''\n",
    "Objetivo: \n",
    "Analizar el rendimiento de los jugadores y equipos de fútbol utilizando variables como goles marcados, \n",
    "precisión de pases, regates exitosos, habilidades defensivas, edad, posición en el campo, altura, entre otros, con el fin \n",
    "de identificar patrones y relaciones significativas. Además, determinar el equipo con el mejor desempeño general en función \n",
    "de todas las variables analizadas.\n",
    "\n",
    "Contexto Comercial:\n",
    "En el contexto comercial, nos encontramos en la industria del fútbol y nuestro objetivo es proporcionar información y \n",
    "análisis útiles para diferentes actores dentro de este ámbito. Esto puede incluir clubes de fútbol, directores técnicos, \n",
    "agentes de jugadores y otros profesionales involucrados en la toma de decisiones estratégicas y operativas.\n",
    "\n",
    "Problema Comercial:\n",
    "El problema comercial que abordamos es la necesidad de comprender y evaluar el rendimiento de los jugadores y equipos de \n",
    "fútbol en función de diversas variables. Esto es crucial para la identificación de talentos, la selección de jugadores, el \n",
    "análisis comparativo de equipos y la toma de decisiones relacionadas con el desarrollo de estrategias de juego y fichajes.\n",
    "\n",
    "Contexto Analítico:\n",
    "En el contexto analítico, utilizaremos técnicas de análisis de datos para examinar y comprender los patrones, tendencias y \n",
    "relaciones existentes en los datos recopilados. Aplicaremos métodos estadísticos y de visualización para explorar las \n",
    "variables relevantes y extraer información significativa que pueda respaldar la toma de decisiones en el ámbito futbolístico.\n",
    "\n",
    "Exploración de Datos (EDA):\n",
    "La exploración de datos (EDA) se llevará a cabo mediante el análisis detallado de las variables disponibles, utilizando \n",
    "herramientas y técnicas de programación en Python. Realizaremos cálculos estadísticos, visualizaciones gráficas y otras \n",
    "técnicas exploratorias para comprender mejor el comportamiento de los jugadores y equipos en términos de goles marcados, \n",
    "precisión de pases, regates exitosos, habilidades defensivas, edad, posición en el campo, altura y otras variables relevantes.\n",
    "\n",
    "A través de este análisis, buscamos descubrir patrones, correlaciones y tendencias significativas que puedan brindar \n",
    "insights valiosos para los actores involucrados en la industria del fútbol y ayudarles a tomar decisiones más informadas \n",
    "y estratégicas.\n",
    "'''"
   ]
  },
  {
   "cell_type": "code",
   "execution_count": 4,
   "id": "f4424615",
   "metadata": {},
   "outputs": [],
   "source": [
    "#Analisis Exploratorio de Datos (EDA)"
   ]
  },
  {
   "cell_type": "code",
   "execution_count": 4,
   "id": "5af21a15",
   "metadata": {},
   "outputs": [
    {
     "name": "stdout",
     "output_type": "stream",
     "text": [
      "   Rk             Player Nation   Pos         Squad            Comp  Age  \\\n",
      "0   1   Brenden Aaronson    USA  MFFW  Leeds United  Premier League   22   \n",
      "1   2   Yunis Abdelhamid    MAR    DF         Reims         Ligue 1   35   \n",
      "2   3      Himad Abdelli    FRA  MFFW        Angers         Ligue 1   23   \n",
      "3   4  Salis Abdul Samed    GHA    MF          Lens         Ligue 1   22   \n",
      "4   5    Laurent Abergel    FRA    MF       Lorient         Ligue 1   30   \n",
      "\n",
      "   Born  MP  Starts  ...   Off   Crs  TklW  PKwon  PKcon    OG  Recov  AerWon  \\\n",
      "0  2000  20      19  ...  0.17  2.54  0.51    0.0    0.0  0.00   4.86    0.34   \n",
      "1  1987  22      22  ...  0.05  0.18  1.59    0.0    0.0  0.00   6.64    2.18   \n",
      "2  1999  14       8  ...  0.00  1.05  1.40    0.0    0.0  0.00   8.14    0.93   \n",
      "3  2000  20      20  ...  0.00  0.35  0.80    0.0    0.0  0.05   6.60    0.50   \n",
      "4  1993  15      15  ...  0.00  0.23  2.02    0.0    0.0  0.00   6.51    0.31   \n",
      "\n",
      "   AerLost  AerWon%  \n",
      "0     1.19     22.2  \n",
      "1     1.23     64.0  \n",
      "2     1.05     47.1  \n",
      "3     0.50     50.0  \n",
      "4     0.39     44.4  \n",
      "\n",
      "[5 rows x 124 columns]\n"
     ]
    }
   ],
   "source": [
    "import pandas as pd\n",
    "import numpy as np\n",
    "import matplotlib.pyplot as plt\n",
    "import seaborn as sns\n",
    "\n",
    "ruta_archivo = '../DataSets/2022-2023FootballPlayerStats.csv'\n",
    "df = pd.read_csv(ruta_archivo, encoding='ISO-8859-1', delimiter=';')\n",
    "\n",
    "# Ver las primeras filas del dataset\n",
    "print(df.head())"
   ]
  },
  {
   "cell_type": "code",
   "execution_count": 6,
   "id": "461cf5eb",
   "metadata": {},
   "outputs": [],
   "source": [
    "# feature selection - modelo algoritmo Random Forest"
   ]
  },
  {
   "cell_type": "code",
   "execution_count": 5,
   "id": "ffd2a286",
   "metadata": {},
   "outputs": [
    {
     "name": "stdout",
     "output_type": "stream",
     "text": [
      "Los jugadores más efectivos en términos de goles marcados son:\n",
      "10        Tammy Abraham\n",
      "11     Francesco Acerbi\n",
      "8                 Abner\n",
      "15          Tyler Adams\n",
      "5     Oliver Abildgaard\n",
      "Name: Player, dtype: object\n",
      "Diferencias en la producción de goles entre los equipos:\n",
      "Squad\n",
      "Ajaccio          0.515152\n",
      "Almería          0.925926\n",
      "Angers           0.548387\n",
      "Arsenal          1.760000\n",
      "Aston Villa      0.960000\n",
      "                   ...   \n",
      "Villarreal       0.724138\n",
      "Werder Bremen    1.250000\n",
      "West Ham         0.760000\n",
      "Wolfsburg        1.440000\n",
      "Wolves           0.483871\n",
      "Name: Goals, Length: 98, dtype: float64\n",
      "La correlación entre la precisión de los pases y la creación de oportunidades de gol es: 0.051380975779905795\n"
     ]
    }
   ],
   "source": [
    "from sklearn.ensemble import RandomForestRegressor\n",
    "from sklearn.model_selection import train_test_split\n",
    "\n",
    "# Definir las variables predictoras (X) y la variable objetivo (y)\n",
    "X = df.drop(['Player', 'Squad', 'Goals', 'Comp', 'Nation', 'Pos'], axis=1)\n",
    "y = df['Goals']\n",
    "\n",
    "# Dividir el dataset en conjunto de entrenamiento y conjunto de prueba\n",
    "X_train, X_test, y_train, y_test = train_test_split(X, y, test_size=0.2, random_state=42)\n",
    "\n",
    "# Crear y entrenar el modelo de Random Forest\n",
    "model = RandomForestRegressor(random_state=42)\n",
    "model.fit(X_train, y_train)\n",
    "\n",
    "# Pregunta 1: Jugadores más efectivos en términos de goles marcados\n",
    "importances = model.feature_importances_\n",
    "top_players_indices = np.argsort(importances)[::-1][:5]\n",
    "top_players = df.loc[top_players_indices, 'Player']\n",
    "print(\"Los jugadores más efectivos en términos de goles marcados son:\")\n",
    "print(top_players)\n",
    "\n",
    "# Pregunta 1: Diferencias significativas entre equipos en cuanto a la producción de goles\n",
    "team_goals = df.groupby('Squad')['Goals'].mean()\n",
    "print(\"Diferencias en la producción de goles entre los equipos:\")\n",
    "print(team_goals)\n",
    "\n",
    "# Pregunta 2: Relación entre la precisión de los pases y la creación de oportunidades de gol\n",
    "pass_accuracy = df['PasShoCmp']\n",
    "opportunities_created = df['GCA']\n",
    "correlation = pass_accuracy.corr(opportunities_created)\n",
    "print(\"La correlación entre la precisión de los pases y la creación de oportunidades de gol es:\", correlation)"
   ]
  },
  {
   "cell_type": "code",
   "execution_count": 6,
   "id": "205dca3d",
   "metadata": {},
   "outputs": [
    {
     "name": "stdout",
     "output_type": "stream",
     "text": [
      "Index(['Rk', 'Age', 'Born', 'MP', 'Starts', 'Min', '90s', 'Shots', 'SoT',\n",
      "       'SoT%',\n",
      "       ...\n",
      "       'Off', 'Crs', 'TklW', 'PKwon', 'PKcon', 'OG', 'Recov', 'AerWon',\n",
      "       'AerLost', 'AerWon%'],\n",
      "      dtype='object', length=118)\n"
     ]
    }
   ],
   "source": [
    "print(X.columns)"
   ]
  },
  {
   "cell_type": "code",
   "execution_count": null,
   "id": "300dd69d",
   "metadata": {},
   "outputs": [],
   "source": []
  }
 ],
 "metadata": {
  "kernelspec": {
   "display_name": "Python 3 (ipykernel)",
   "language": "python",
   "name": "python3"
  },
  "language_info": {
   "codemirror_mode": {
    "name": "ipython",
    "version": 3
   },
   "file_extension": ".py",
   "mimetype": "text/x-python",
   "name": "python",
   "nbconvert_exporter": "python",
   "pygments_lexer": "ipython3",
   "version": "3.8.3"
  }
 },
 "nbformat": 4,
 "nbformat_minor": 5
}
