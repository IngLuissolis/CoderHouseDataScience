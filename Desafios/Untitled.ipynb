{
 "cells": [
  {
   "cell_type": "code",
   "execution_count": null,
   "id": "a03e584b",
   "metadata": {},
   "outputs": [],
   "source": [
    "# Abstracto - Vendeme esta Pluma!!!\n",
    "'''\n",
    "Motivación: El análisis de datos en el fútbol ha ganado una gran importancia en los últimos años, ya que proporciona \n",
    "información valiosa sobre el desempeño de los jugadores y equipos. En este contexto, el presente conjunto de datos \n",
    "ofrece una amplia variedad de variables que capturan diversos aspectos del juego. Describir estas variables de manera \n",
    "precisa y comprensible es fundamental para que entrenadores, analistas y aficionados puedan interpretar y utilizar la \n",
    "información de manera efectiva.\n",
    "\n",
    "Audiencia: Este resumen está dirigido a entrenadores, analistas y aficionados del fútbol que estén interesados en comprender\n",
    "y utilizar el conjunto de datos proporcionado. La descripción detallada de las variables les permitirá tener una visión \n",
    "general de la información disponible y utilizarla para evaluar el rendimiento de los jugadores en diferentes aspectos \n",
    "del juego, como goles, tiros, pases, regates, defensa, entre otros. Además, este resumen también puede ser útil para \n",
    "investigadores o estudiantes que estén interesados en el análisis de datos en el fútbol y deseen explorar más a fondo el \n",
    "conjunto de datos proporcionado.\n",
    "'''"
   ]
  },
  {
   "cell_type": "code",
   "execution_count": null,
   "id": "257f3806",
   "metadata": {},
   "outputs": [],
   "source": [
    "#Preguntas / Hipotesis\n",
    "'''\n",
    "Algunas posibles preguntas/hipótesis que podríamos resolver mediante el análisis de los datos descritos podrían ser:\n",
    "\n",
    "1. ¿Cuáles son los jugadores más efectivos en términos de goles marcados? ¿Existen diferencias significativas entre \n",
    "los distintos equipos en cuanto a la producción de goles?\n",
    "2. ¿Existe una relación entre la precisión de los pases de un jugador y su capacidad para crear oportunidades de gol \n",
    "para su equipo?\n",
    "3. ¿Cuál es el porcentaje de éxito de los regates realizados por los jugadores? ¿Algunos jugadores destacan por su habilidad\n",
    "para eludir a los defensores?\n",
    "4. ¿Qué jugadores tienen la mejor capacidad defensiva en términos de bloqueo de tiros y recuperación de balones?\n",
    "5. ¿Existe alguna correlación entre la edad de los jugadores y su rendimiento en el campo?\n",
    "6. ¿Hay diferencias significativas en el rendimiento de los jugadores en función de su posición en el campo (delantero, \n",
    "centrocampista, defensor, portero)?\n",
    "7. ¿Existe alguna relación entre la altura de los jugadores y su capacidad para ganar duelos aéreos?\n",
    "8. ¿Cuál es el equipo con el mejor desempeño general en términos de todas las variables analizadas?\n",
    "\n",
    "Estas preguntas y hipótesis son solo ejemplos y podrían variar dependiendo de los intereses y objetivos específicos del \n",
    "análisis de datos que se realice.\n",
    "'''"
   ]
  },
  {
   "cell_type": "code",
   "execution_count": null,
   "id": "600a97e7",
   "metadata": {},
   "outputs": [],
   "source": []
  }
 ],
 "metadata": {
  "kernelspec": {
   "display_name": "Python 3 (ipykernel)",
   "language": "python",
   "name": "python3"
  },
  "language_info": {
   "codemirror_mode": {
    "name": "ipython",
    "version": 3
   },
   "file_extension": ".py",
   "mimetype": "text/x-python",
   "name": "python",
   "nbconvert_exporter": "python",
   "pygments_lexer": "ipython3",
   "version": "3.8.3"
  }
 },
 "nbformat": 4,
 "nbformat_minor": 5
}
