{
 "cells": [
  {
   "cell_type": "code",
   "execution_count": 2,
   "id": "af3bc950",
   "metadata": {},
   "outputs": [
    {
     "data": {
      "text/plain": [
       "'\\nMotivación: El análisis de datos en el fútbol ha ganado una gran importancia en los últimos años, ya que proporciona \\ninformación valiosa sobre el desempeño de los jugadores y equipos. En este contexto, el presente conjunto de datos \\nofrece una amplia variedad de variables que capturan diversos aspectos del juego. Describir estas variables de manera \\nprecisa y comprensible es fundamental para que entrenadores, analistas y aficionados puedan interpretar y utilizar la \\ninformación de manera efectiva.\\n\\nAudiencia: Este resumen está dirigido a entrenadores, analistas y aficionados del fútbol que estén interesados en comprender\\ny utilizar el conjunto de datos proporcionado. La descripción detallada de las variables les permitirá tener una visión \\ngeneral de la información disponible y utilizarla para evaluar el rendimiento de los jugadores en diferentes aspectos \\ndel juego, como goles, tiros, pases, regates, defensa, entre otros. Además, este resumen también puede ser útil para \\ninvestigadores o estudiantes que estén interesados en el análisis de datos en el fútbol y deseen explorar más a fondo el \\nconjunto de datos proporcionado.\\n'"
      ]
     },
     "execution_count": 2,
     "metadata": {},
     "output_type": "execute_result"
    }
   ],
   "source": [
    "# Abstracto - Vendeme esta Pluma!!!\n",
    "'''\n",
    "Motivación: El análisis de datos en el fútbol ha ganado una gran importancia en los últimos años, ya que proporciona \n",
    "información valiosa sobre el desempeño de los jugadores y equipos. En este contexto, el presente conjunto de datos \n",
    "ofrece una amplia variedad de variables que capturan diversos aspectos del juego. Describir estas variables de manera \n",
    "precisa y comprensible es fundamental para que entrenadores, analistas y aficionados puedan interpretar y utilizar la \n",
    "información de manera efectiva.\n",
    "\n",
    "Audiencia: Este resumen está dirigido a entrenadores, analistas y aficionados del fútbol que estén interesados en comprender\n",
    "y utilizar el conjunto de datos proporcionado. La descripción detallada de las variables les permitirá tener una visión \n",
    "general de la información disponible y utilizarla para evaluar el rendimiento de los jugadores en diferentes aspectos \n",
    "del juego, como goles, tiros, pases, regates, defensa, entre otros. Además, este resumen también puede ser útil para \n",
    "investigadores o estudiantes que estén interesados en el análisis de datos en el fútbol y deseen explorar más a fondo el \n",
    "conjunto de datos proporcionado.\n",
    "'''"
   ]
  },
  {
   "cell_type": "code",
   "execution_count": 3,
   "id": "8ad9ca38",
   "metadata": {},
   "outputs": [
    {
     "data": {
      "text/plain": [
       "'\\nAlgunas posibles preguntas/hipótesis que podríamos resolver mediante el análisis de los datos descritos podrían ser:\\n\\n1. ¿Cuáles son los jugadores más efectivos en términos de goles marcados? ¿Existen diferencias significativas entre \\nlos distintos equipos en cuanto a la producción de goles?\\n2. ¿Existe una relación entre la precisión de los pases de un jugador y su capacidad para crear oportunidades de gol \\npara su equipo?\\n3. ¿Cuál es el porcentaje de éxito de los regates realizados por los jugadores? ¿Algunos jugadores destacan por su habilidad\\npara eludir a los defensores?\\n4. ¿Qué jugadores tienen la mejor capacidad defensiva en términos de bloqueo de tiros y recuperación de balones?\\n5. ¿Existe alguna correlación entre la edad de los jugadores y su rendimiento en el campo?\\n6. ¿Hay diferencias significativas en el rendimiento de los jugadores en función de su posición en el campo (delantero, \\ncentrocampista, defensor, portero)?\\n7. ¿Existe alguna relación entre la altura de los jugadores y su capacidad para ganar duelos aéreos?\\n8. ¿Cuál es el equipo con el mejor desempeño general en términos de todas las variables analizadas?\\n\\nEstas preguntas y hipótesis son solo ejemplos y podrían variar dependiendo de los intereses y objetivos específicos del \\nanálisis de datos que se realice.\\n'"
      ]
     },
     "execution_count": 3,
     "metadata": {},
     "output_type": "execute_result"
    }
   ],
   "source": [
    "#Preguntas / Hipotesis\n",
    "'''\n",
    "Algunas posibles preguntas/hipótesis que podríamos resolver mediante el análisis de los datos descritos podrían ser:\n",
    "\n",
    "1. ¿Cuáles son los jugadores más efectivos en términos de goles marcados? ¿Existen diferencias significativas entre \n",
    "los distintos equipos en cuanto a la producción de goles?\n",
    "2. ¿Existe una relación entre la precisión de los pases de un jugador y su capacidad para crear oportunidades de gol \n",
    "para su equipo?\n",
    "3. ¿Cuál es el porcentaje de éxito de los regates realizados por los jugadores? ¿Algunos jugadores destacan por su habilidad\n",
    "para eludir a los defensores?\n",
    "4. ¿Qué jugadores tienen la mejor capacidad defensiva en términos de bloqueo de tiros y recuperación de balones?\n",
    "5. ¿Existe alguna correlación entre la edad de los jugadores y su rendimiento en el campo?\n",
    "6. ¿Hay diferencias significativas en el rendimiento de los jugadores en función de su posición en el campo (delantero, \n",
    "centrocampista, defensor, portero)?\n",
    "7. ¿Existe alguna relación entre la altura de los jugadores y su capacidad para ganar duelos aéreos?\n",
    "8. ¿Cuál es el equipo con el mejor desempeño general en términos de todas las variables analizadas?\n",
    "\n",
    "Estas preguntas y hipótesis son solo ejemplos y podrían variar dependiendo de los intereses y objetivos específicos del \n",
    "análisis de datos que se realice.\n",
    "'''"
   ]
  },
  {
   "cell_type": "code",
   "execution_count": 4,
   "id": "cf50508f",
   "metadata": {},
   "outputs": [
    {
     "data": {
      "text/plain": [
       "'\\nObjetivo: \\nAnalizar el rendimiento de los jugadores y equipos de fútbol utilizando variables como goles marcados, \\nprecisión de pases, regates exitosos, habilidades defensivas, edad, posición en el campo, altura, entre otros, con el fin \\nde identificar patrones y relaciones significativas. Además, determinar el equipo con el mejor desempeño general en función \\nde todas las variables analizadas.\\n\\nContexto Comercial:\\nEn el contexto comercial, nos encontramos en la industria del fútbol y nuestro objetivo es proporcionar información y \\nanálisis útiles para diferentes actores dentro de este ámbito. Esto puede incluir clubes de fútbol, directores técnicos, \\nagentes de jugadores y otros profesionales involucrados en la toma de decisiones estratégicas y operativas.\\n\\nProblema Comercial:\\nEl problema comercial que abordamos es la necesidad de comprender y evaluar el rendimiento de los jugadores y equipos de \\nfútbol en función de diversas variables. Esto es crucial para la identificación de talentos, la selección de jugadores, el \\nanálisis comparativo de equipos y la toma de decisiones relacionadas con el desarrollo de estrategias de juego y fichajes.\\n\\nContexto Analítico:\\nEn el contexto analítico, utilizaremos técnicas de análisis de datos para examinar y comprender los patrones, tendencias y \\nrelaciones existentes en los datos recopilados. Aplicaremos métodos estadísticos y de visualización para explorar las \\nvariables relevantes y extraer información significativa que pueda respaldar la toma de decisiones en el ámbito futbolístico.\\n\\nExploración de Datos (EDA):\\nLa exploración de datos (EDA) se llevará a cabo mediante el análisis detallado de las variables disponibles, utilizando \\nherramientas y técnicas de programación en Python. Realizaremos cálculos estadísticos, visualizaciones gráficas y otras \\ntécnicas exploratorias para comprender mejor el comportamiento de los jugadores y equipos en términos de goles marcados, \\nprecisión de pases, regates exitosos, habilidades defensivas, edad, posición en el campo, altura y otras variables relevantes.\\n\\nA través de este análisis, buscamos descubrir patrones, correlaciones y tendencias significativas que puedan brindar \\ninsights valiosos para los actores involucrados en la industria del fútbol y ayudarles a tomar decisiones más informadas \\ny estratégicas.\\n'"
      ]
     },
     "execution_count": 4,
     "metadata": {},
     "output_type": "execute_result"
    }
   ],
   "source": [
    "'''\n",
    "Objetivo: \n",
    "Analizar el rendimiento de los jugadores y equipos de fútbol utilizando variables como goles marcados, \n",
    "precisión de pases, regates exitosos, habilidades defensivas, edad, posición en el campo, altura, entre otros, con el fin \n",
    "de identificar patrones y relaciones significativas. Además, determinar el equipo con el mejor desempeño general en función \n",
    "de todas las variables analizadas.\n",
    "\n",
    "Contexto Comercial:\n",
    "En el contexto comercial, nos encontramos en la industria del fútbol y nuestro objetivo es proporcionar información y \n",
    "análisis útiles para diferentes actores dentro de este ámbito. Esto puede incluir clubes de fútbol, directores técnicos, \n",
    "agentes de jugadores y otros profesionales involucrados en la toma de decisiones estratégicas y operativas.\n",
    "\n",
    "Problema Comercial:\n",
    "El problema comercial que abordamos es la necesidad de comprender y evaluar el rendimiento de los jugadores y equipos de \n",
    "fútbol en función de diversas variables. Esto es crucial para la identificación de talentos, la selección de jugadores, el \n",
    "análisis comparativo de equipos y la toma de decisiones relacionadas con el desarrollo de estrategias de juego y fichajes.\n",
    "\n",
    "Contexto Analítico:\n",
    "En el contexto analítico, utilizaremos técnicas de análisis de datos para examinar y comprender los patrones, tendencias y \n",
    "relaciones existentes en los datos recopilados. Aplicaremos métodos estadísticos y de visualización para explorar las \n",
    "variables relevantes y extraer información significativa que pueda respaldar la toma de decisiones en el ámbito futbolístico.\n",
    "\n",
    "Exploración de Datos (EDA):\n",
    "La exploración de datos (EDA) se llevará a cabo mediante el análisis detallado de las variables disponibles, utilizando \n",
    "herramientas y técnicas de programación en Python. Realizaremos cálculos estadísticos, visualizaciones gráficas y otras \n",
    "técnicas exploratorias para comprender mejor el comportamiento de los jugadores y equipos en términos de goles marcados, \n",
    "precisión de pases, regates exitosos, habilidades defensivas, edad, posición en el campo, altura y otras variables relevantes.\n",
    "\n",
    "A través de este análisis, buscamos descubrir patrones, correlaciones y tendencias significativas que puedan brindar \n",
    "insights valiosos para los actores involucrados en la industria del fútbol y ayudarles a tomar decisiones más informadas \n",
    "y estratégicas.\n",
    "'''"
   ]
  },
  {
   "cell_type": "code",
   "execution_count": 5,
   "id": "f4424615",
   "metadata": {},
   "outputs": [],
   "source": [
    "#Analisis Exploratorio de Datos (EDA)"
   ]
  },
  {
   "cell_type": "code",
   "execution_count": 14,
   "id": "5af21a15",
   "metadata": {},
   "outputs": [
    {
     "name": "stdout",
     "output_type": "stream",
     "text": [
      "   Rk             Player Nation   Pos         Squad            Comp  Age  \\\n",
      "0   1   Brenden Aaronson    USA  MFFW  Leeds United  Premier League   22   \n",
      "1   2   Yunis Abdelhamid    MAR    DF         Reims         Ligue 1   35   \n",
      "2   3      Himad Abdelli    FRA  MFFW        Angers         Ligue 1   23   \n",
      "3   4  Salis Abdul Samed    GHA    MF          Lens         Ligue 1   22   \n",
      "4   5    Laurent Abergel    FRA    MF       Lorient         Ligue 1   30   \n",
      "\n",
      "   Born  MP  Starts  ...   Off   Crs  TklW  PKwon  PKcon    OG  Recov  AerWon  \\\n",
      "0  2000  20      19  ...  0.17  2.54  0.51    0.0    0.0  0.00   4.86    0.34   \n",
      "1  1987  22      22  ...  0.05  0.18  1.59    0.0    0.0  0.00   6.64    2.18   \n",
      "2  1999  14       8  ...  0.00  1.05  1.40    0.0    0.0  0.00   8.14    0.93   \n",
      "3  2000  20      20  ...  0.00  0.35  0.80    0.0    0.0  0.05   6.60    0.50   \n",
      "4  1993  15      15  ...  0.00  0.23  2.02    0.0    0.0  0.00   6.51    0.31   \n",
      "\n",
      "   AerLost  AerWon%  \n",
      "0     1.19     22.2  \n",
      "1     1.23     64.0  \n",
      "2     1.05     47.1  \n",
      "3     0.50     50.0  \n",
      "4     0.39     44.4  \n",
      "\n",
      "[5 rows x 124 columns]\n"
     ]
    }
   ],
   "source": [
    "import pandas as pd\n",
    "import numpy as np\n",
    "import matplotlib.pyplot as plt\n",
    "import seaborn as sns\n",
    "\n",
    "ruta_archivo = '../DataSets/2022-2023FootballPlayerStats.csv'\n",
    "df = pd.read_csv(ruta_archivo, encoding='ISO-8859-1', delimiter=';')\n",
    "\n",
    "# Ver las primeras filas del dataset\n",
    "print(df.head())"
   ]
  },
  {
   "cell_type": "code",
   "execution_count": 7,
   "id": "461cf5eb",
   "metadata": {},
   "outputs": [],
   "source": [
    "### feature selection - modelo algoritmo Random Forest"
   ]
  },
  {
   "cell_type": "code",
   "execution_count": 15,
   "id": "1a88d59c",
   "metadata": {},
   "outputs": [
    {
     "name": "stdout",
     "output_type": "stream",
     "text": [
      "Error cuadrático medio (MSE) - Conjunto de entrenamiento: 0.18916163450763934\n",
      "Error cuadrático medio (MSE) - Conjunto de prueba: 1.1805465209641097\n",
      "Coeficiente de determinación (R^2) - Conjunto de entrenamiento: 0.9536938079155101\n",
      "Coeficiente de determinación (R^2) - Conjunto de prueba: 0.6992567213869347\n",
      "Error absoluto medio (MAE) - Conjunto de entrenamiento: 0.1640603927298488\n",
      "Error absoluto medio (MAE) - Conjunto de prueba: 0.40715663539269487\n"
     ]
    }
   ],
   "source": [
    "from sklearn.ensemble import RandomForestRegressor\n",
    "from sklearn.model_selection import train_test_split\n",
    "from sklearn.metrics import mean_squared_error, r2_score, mean_absolute_error\n",
    "\n",
    "# Definir las variables predictoras (X) y la variable objetivo (y)\n",
    "X = df[['Shots', 'SoT', 'SoT%', 'G/Sh', 'G/SoT']]\n",
    "y = df['Goals']\n",
    "\n",
    "# Dividir el dataset en conjunto de entrenamiento y conjunto de prueba\n",
    "X_train, X_test, y_train, y_test = train_test_split(X, y, test_size=0.2, random_state=42)\n",
    "\n",
    "# Crear y entrenar el modelo de Random Forest\n",
    "model = RandomForestRegressor(random_state=42)\n",
    "model.fit(X_train, y_train)\n",
    "\n",
    "# Realizar predicciones en el conjunto de entrenamiento y conjunto de prueba\n",
    "y_train_pred = model.predict(X_train)\n",
    "y_test_pred = model.predict(X_test)\n",
    "\n",
    "# Calcular el Error Cuadrático Medio (MSE) en el conjunto de entrenamiento y conjunto de prueba\n",
    "mse_train = mean_squared_error(y_train, y_train_pred)\n",
    "mse_test = mean_squared_error(y_test, y_test_pred)\n",
    "\n",
    "# Calcular el coeficiente de determinación (R^2) en el conjunto de entrenamiento y conjunto de prueba\n",
    "r2_train = r2_score(y_train, y_train_pred)\n",
    "r2_test = r2_score(y_test, y_test_pred)\n",
    "\n",
    "# Calcular el error absoluto medio (MAE) en el conjunto de entrenamiento y conjunto de prueba\n",
    "mae_train = mean_absolute_error(y_train, y_train_pred)\n",
    "mae_test = mean_absolute_error(y_test, y_test_pred)\n",
    "\n",
    "# Imprimir los resultados\n",
    "print(\"Error cuadrático medio (MSE) - Conjunto de entrenamiento:\", mse_train)\n",
    "print(\"Error cuadrático medio (MSE) - Conjunto de prueba:\", mse_test)\n",
    "print(\"Coeficiente de determinación (R^2) - Conjunto de entrenamiento:\", r2_train)\n",
    "print(\"Coeficiente de determinación (R^2) - Conjunto de prueba:\", r2_test)\n",
    "print(\"Error absoluto medio (MAE) - Conjunto de entrenamiento:\", mae_train)\n",
    "print(\"Error absoluto medio (MAE) - Conjunto de prueba:\", mae_test)"
   ]
  },
  {
   "cell_type": "code",
   "execution_count": 9,
   "id": "8e7fa071",
   "metadata": {},
   "outputs": [
    {
     "data": {
      "text/plain": [
       "'\\nEn base a los resultados obtenidos:\\n\\nEl modelo de Random Forest muestra un buen rendimiento general en el conjunto de entrenamiento y prueba, \\ncon un bajo error cuadrático medio (MSE) de 0.189 en el conjunto de entrenamiento y 1.181 en el conjunto\\nde prueba.\\nEl coeficiente de determinación (R^2) indica que el modelo explica aproximadamente el 95.4% de la \\nvariabilidad de los datos en el conjunto de entrenamiento y alrededor del 69.9% en el conjunto de prueba.\\nEsto sugiere que el modelo tiene una capacidad aceptable para predecir los valores objetivo.\\nEl error absoluto medio (MAE) muestra una diferencia promedio de 0.164 en el conjunto de entrenamiento \\ny 0.407 en el conjunto de prueba entre las predicciones del modelo y los valores reales.\\nEn general, el modelo parece tener un buen rendimiento y capacidad predictiva en términos de predecir \\nla cantidad de goles basándose en las variables predictoras seleccionadas.\\n\\nRespecto a si el modelo de Random Forest está experimentando una situación de sobreajuste (overfitting) \\no subajuste (underfitting) se puede concluir:\\n    - No parece haber una clara señal de sobreajuste, ya que el MSE en el conjunto de prueba no \\n    es significativamente mayor que el MSE en el conjunto de entrenamiento.\\n    - El R^2 en el conjunto de prueba es menor que en el conjunto de entrenamiento, lo cual indica \\n    que el modelo no está generalizando tan bien en datos nuevos.\\n    - El MAE es relativamente bajo tanto en el conjunto de entrenamiento como en el conjunto de prueba,\\n    lo cual es alentador.\\n\\nEn general, podemos decir que el modelo de Random Forest parece tener un rendimiento razonablemente bueno \\ny no muestra una señal clara de sobreajuste o subajuste.\\n'"
      ]
     },
     "execution_count": 9,
     "metadata": {},
     "output_type": "execute_result"
    }
   ],
   "source": [
    "'''\n",
    "En base a los resultados obtenidos:\n",
    "\n",
    "El modelo de Random Forest muestra un buen rendimiento general en el conjunto de entrenamiento y prueba, \n",
    "con un bajo error cuadrático medio (MSE) de 0.189 en el conjunto de entrenamiento y 1.181 en el conjunto\n",
    "de prueba.\n",
    "El coeficiente de determinación (R^2) indica que el modelo explica aproximadamente el 95.4% de la \n",
    "variabilidad de los datos en el conjunto de entrenamiento y alrededor del 69.9% en el conjunto de prueba.\n",
    "Esto sugiere que el modelo tiene una capacidad aceptable para predecir los valores objetivo.\n",
    "El error absoluto medio (MAE) muestra una diferencia promedio de 0.164 en el conjunto de entrenamiento \n",
    "y 0.407 en el conjunto de prueba entre las predicciones del modelo y los valores reales.\n",
    "En general, el modelo parece tener un buen rendimiento y capacidad predictiva en términos de predecir \n",
    "la cantidad de goles basándose en las variables predictoras seleccionadas.\n",
    "'''"
   ]
  },
  {
   "cell_type": "code",
   "execution_count": null,
   "id": "d208399f",
   "metadata": {},
   "outputs": [],
   "source": [
    "#Evaluación si se esta experimentando una situación de overfitting o underfitting con modelo Elastic Net"
   ]
  },
  {
   "cell_type": "code",
   "execution_count": null,
   "id": "ed43bd46",
   "metadata": {},
   "outputs": [],
   "source": [
    "'''\n",
    "Respecto a si el modelo de Random Forest está experimentando una situación de sobreajuste (overfitting) \n",
    "o subajuste (underfitting) se puede concluir:\n",
    "    - No parece haber una clara señal de sobreajuste, ya que el MSE en el conjunto de prueba no \n",
    "    es significativamente mayor que el MSE en el conjunto de entrenamiento.\n",
    "    - El R^2 en el conjunto de prueba es menor que en el conjunto de entrenamiento, lo cual indica \n",
    "    que el modelo no está generalizando tan bien en datos nuevos.\n",
    "    - El MAE es relativamente bajo tanto en el conjunto de entrenamiento como en el conjunto de prueba,\n",
    "    lo cual es alentador.\n",
    "\n",
    "En general, podemos decir que el modelo de Random Forest parece tener un rendimiento razonablemente bueno \n",
    "y no muestra una señal clara de sobreajuste o subajuste.\n",
    "'''"
   ]
  },
  {
   "cell_type": "code",
   "execution_count": null,
   "id": "8c42ddc1",
   "metadata": {},
   "outputs": [],
   "source": [
    "#Formas de Mejorar Modelo"
   ]
  },
  {
   "cell_type": "code",
   "execution_count": null,
   "id": "9a85105e",
   "metadata": {},
   "outputs": [],
   "source": [
    "#Ajuste de Hiperparametros"
   ]
  },
  {
   "cell_type": "code",
   "execution_count": 28,
   "id": "031c0a26",
   "metadata": {
    "scrolled": true
   },
   "outputs": [
    {
     "name": "stdout",
     "output_type": "stream",
     "text": [
      "Mejores hiperparámetros: {'max_depth': 10, 'min_samples_leaf': 4, 'min_samples_split': 10, 'n_estimators': 200}\n",
      "Error cuadrático medio (MSE) - Conjunto de entrenamiento: 0.6674193608573337\n",
      "Error cuadrático medio (MSE) - Conjunto de prueba: 1.151072502392312\n",
      "Coeficiente de determinación (R^2) - Conjunto de entrenamiento: 0.8366177729156856\n",
      "Coeficiente de determinación (R^2) - Conjunto de prueba: 0.7067652039598586\n",
      "Error absoluto medio (MAE) - Conjunto de entrenamiento: 0.31082945339684603\n",
      "Error absoluto medio (MAE) - Conjunto de prueba: 0.399162829832605\n"
     ]
    }
   ],
   "source": [
    "from sklearn.ensemble import RandomForestRegressor\n",
    "from sklearn.model_selection import train_test_split, GridSearchCV\n",
    "from sklearn.metrics import mean_squared_error, r2_score, mean_absolute_error\n",
    "\n",
    "# Definir las variables predictoras (X) y la variable objetivo (y)\n",
    "X = df[['Shots', 'SoT', 'SoT%', 'G/Sh', 'G/SoT']]\n",
    "y = df['Goals']\n",
    "\n",
    "# Dividir el dataset en conjunto de entrenamiento y conjunto de prueba\n",
    "X_train, X_test, y_train, y_test = train_test_split(X, y, test_size=0.2, random_state=42)\n",
    "\n",
    "# Definir los posibles valores de hiperparámetros a probar\n",
    "param_grid = {\n",
    "    'n_estimators': [100, 200, 300],   # Número de árboles en el bosque\n",
    "    'max_depth': [None, 5, 10],         # Profundidad máxima de los árboles\n",
    "    'min_samples_split': [2, 5, 10],    # Número mínimo de muestras para dividir un nodo\n",
    "    'min_samples_leaf': [1, 2, 4]       # Número mínimo de muestras en cada hoja del árbol\n",
    "}\n",
    "\n",
    "# Crear el objeto GridSearchCV para la búsqueda de hiperparámetros\n",
    "grid_search = GridSearchCV(RandomForestRegressor(random_state=42), param_grid, cv=5, scoring='neg_mean_squared_error')\n",
    "\n",
    "# Entrenar el objeto GridSearchCV\n",
    "grid_search.fit(X_train, y_train)\n",
    "\n",
    "# Obtener los mejores hiperparámetros encontrados\n",
    "best_params = grid_search.best_params_\n",
    "\n",
    "# Crear el modelo de Random Forest con los mejores hiperparámetros encontrados\n",
    "model = RandomForestRegressor(random_state=42, **best_params)\n",
    "model.fit(X_train, y_train)\n",
    "\n",
    "# Realizar predicciones en el conjunto de entrenamiento y conjunto de prueba\n",
    "y_train_pred = model.predict(X_train)\n",
    "y_test_pred = model.predict(X_test)\n",
    "\n",
    "# Calcular el Error Cuadrático Medio (MSE) en el conjunto de entrenamiento y conjunto de prueba\n",
    "mse_train = mean_squared_error(y_train, y_train_pred)\n",
    "mse_test = mean_squared_error(y_test, y_test_pred)\n",
    "\n",
    "# Calcular el coeficiente de determinación (R^2) en el conjunto de entrenamiento y conjunto de prueba\n",
    "r2_train = r2_score(y_train, y_train_pred)\n",
    "r2_test = r2_score(y_test, y_test_pred)\n",
    "\n",
    "# Calcular el error absoluto medio (MAE) en el conjunto de entrenamiento y conjunto de prueba\n",
    "mae_train = mean_absolute_error(y_train, y_train_pred)\n",
    "mae_test = mean_absolute_error(y_test, y_test_pred)\n",
    "\n",
    "# Imprimir los resultados\n",
    "print(\"Mejores hiperparámetros:\", best_params)\n",
    "print(\"Error cuadrático medio (MSE) - Conjunto de entrenamiento:\", mse_train)\n",
    "print(\"Error cuadrático medio (MSE) - Conjunto de prueba:\", mse_test)\n",
    "print(\"Coeficiente de determinación (R^2) - Conjunto de entrenamiento:\", r2_train)\n",
    "print(\"Coeficiente de determinación (R^2) - Conjunto de prueba:\", r2_test)\n",
    "print(\"Error absoluto medio (MAE) - Conjunto de entrenamiento:\", mae_train)\n",
    "print(\"Error absoluto medio (MAE) - Conjunto de prueba:\", mae_test)"
   ]
  },
  {
   "cell_type": "code",
   "execution_count": null,
   "id": "28f38814",
   "metadata": {},
   "outputs": [],
   "source": [
    "'''\n",
    "Comparando los resultados del modelo original de Random Forest con los resultados obtenidos después \n",
    "de ajustar los hiperparámetros, podemos obtener las siguientes conclusiones:\n",
    "\n",
    "El nuevo modelo de Random Forest con los mejores hiperparámetros presenta una mejora en términos del \n",
    "Error Cuadrático Medio (MSE) en el conjunto de prueba, disminuyendo de 1.1805 a 1.1511. Esto indica\n",
    "que el modelo ajustado tiene un mejor rendimiento en la capacidad de predecir los valores de la \n",
    "variable objetivo en datos no vistos previamente.\n",
    "\n",
    "Además, el coeficiente de determinación (R^2) en el conjunto de prueba también mejora, incrementando \n",
    "de 0.6993 a 0.7068. Esto significa que el nuevo modelo explica un mayor porcentaje de la variabilidad \n",
    "de los datos de prueba en comparación con el modelo original.\n",
    "\n",
    "En cuanto al Error Absoluto Medio (MAE), el nuevo modelo presenta un ligero aumento en el conjunto de \n",
    "prueba, pasando de 0.4072 a 0.3992. Sin embargo, sigue siendo un valor relativamente bajo, lo que indica\n",
    "que las predicciones del modelo ajustado están cercanas a los valores reales en promedio.\n",
    "\n",
    "En resumen, el modelo de Random Forest con los hiperparámetros ajustados logra una mejor generalización\n",
    "en el conjunto de prueba en comparación con el modelo original, al disminuir el MSE y mejorar el R^2. \n",
    "Estos resultados sugieren que el ajuste de los hiperparámetros ha mejorado el rendimiento del modelo \n",
    "en términos de precisión y capacidad de generalización.\n",
    "'''"
   ]
  },
  {
   "cell_type": "code",
   "execution_count": 11,
   "id": "b4165234",
   "metadata": {},
   "outputs": [],
   "source": [
    "### feature selection - modelo algoritmo Elastic Net"
   ]
  },
  {
   "cell_type": "code",
   "execution_count": 21,
   "id": "f1cc412c",
   "metadata": {
    "scrolled": true
   },
   "outputs": [
    {
     "name": "stdout",
     "output_type": "stream",
     "text": [
      "Error cuadrático medio (MSE) - Conjunto de entrenamiento: 3.420932607883566\n",
      "Error cuadrático medio (MSE) - Conjunto de prueba: 3.3396425145587667\n",
      "Coeficiente de determinación (R^2) - Conjunto de entrenamiento: 0.16256611515822927\n",
      "Coeficiente de determinación (R^2) - Conjunto de prueba: 0.14922875008453873\n",
      "Error absoluto medio (MAE) - Conjunto de entrenamiento: 1.0663694893351714\n",
      "Error absoluto medio (MAE) - Conjunto de prueba: 1.042423816912241\n"
     ]
    }
   ],
   "source": [
    "from sklearn.model_selection import train_test_split\n",
    "from sklearn.linear_model import ElasticNet\n",
    "from sklearn.metrics import mean_squared_error, r2_score, mean_absolute_error\n",
    "\n",
    "# Cargar los datos\n",
    "df = pd.read_csv(ruta_archivo, encoding='ISO-8859-1', delimiter=';')\n",
    "\n",
    "#Variables de Analisis\n",
    "features = ['Shots', 'SoT', 'SoT%', 'G/Sh', 'G/SoT']\n",
    "\n",
    "# Dividir los datos en conjunto de entrenamiento y prueba\n",
    "X_train, X_test, y_train, y_test = train_test_split(df[features], df['Goals'], test_size=0.2, random_state=42)\n",
    "\n",
    "# Crear el modelo Elastic Net\n",
    "model = ElasticNet(alpha=0.5, l1_ratio=0.5)\n",
    "\n",
    "# Entrenar el modelo\n",
    "model.fit(X_train, y_train)\n",
    "\n",
    "# Obtener los coeficientes del modelo\n",
    "coeficients = model.coef_\n",
    "\n",
    "# Crear un dataframe con los coeficientes y las variables correspondientes\n",
    "coef_df = pd.DataFrame({'Variable': features, 'Coeficiente': coeficients})\n",
    "\n",
    "# Ordenar los coeficientes de mayor a menor\n",
    "coef_df = coef_df.sort_values(by='Coeficiente', ascending=False)\n",
    "\n",
    "# Mostrar los coeficientes\n",
    "#print(coef_df)\n",
    "\n",
    "# Realizar predicciones en el conjunto de prueba\n",
    "y_pred = model.predict(X_test)\n",
    "\n",
    "# Realizar predicciones en el conjunto de entrenamiento\n",
    "y_pred_train = model.predict(X_train)\n",
    "\n",
    "# Calcular el error cuadrático medio (MSE) en el conjunto de entrenamiento\n",
    "mse_train = mean_squared_error(y_train, y_pred_train)\n",
    "\n",
    "# Calcular el error cuadrático medio (MSE) en el conjunto de prueba\n",
    "mse_test = mean_squared_error(y_test, y_pred)\n",
    "\n",
    "# Calcular el coeficiente de determinación (R^2) en el conjunto de entrenamiento\n",
    "r2_train = r2_score(y_train, y_pred_train)\n",
    "\n",
    "# Calcular el coeficiente de determinación (R^2) en el conjunto de prueba\n",
    "r2_test = r2_score(y_test, y_pred)\n",
    "\n",
    "# Calcular el error absoluto medio (MAE) en el conjunto de entrenamiento\n",
    "mae_train = mean_absolute_error(y_train, y_pred_train)\n",
    "\n",
    "# Calcular el error absoluto medio (MAE) en el conjunto de prueba\n",
    "mae_test = mean_absolute_error(y_test, y_pred)\n",
    "\n",
    "# Imprimir los resultados\n",
    "print(\"Error cuadrático medio (MSE) - Conjunto de entrenamiento:\", mse_train)\n",
    "print(\"Error cuadrático medio (MSE) - Conjunto de prueba:\", mse_test)\n",
    "print(\"Coeficiente de determinación (R^2) - Conjunto de entrenamiento:\", r2_train)\n",
    "print(\"Coeficiente de determinación (R^2) - Conjunto de prueba:\", r2_test)\n",
    "print(\"Error absoluto medio (MAE) - Conjunto de entrenamiento:\", mae_train)\n",
    "print(\"Error absoluto medio (MAE) - Conjunto de prueba:\", mae_test)"
   ]
  },
  {
   "cell_type": "code",
   "execution_count": null,
   "id": "e4874829",
   "metadata": {
    "scrolled": true
   },
   "outputs": [],
   "source": [
    "'''\n",
    "Los resultados obtenidos del código indican lo siguiente:\n",
    "- Coeficiente de determinación (R^2): El valor obtenido de 0.1492 indica que el modelo de Elastic Net \n",
    "puede explicar aproximadamente el 14.92% de la variabilidad de la variable objetivo (Goals) utilizando \n",
    "las variables predictoras seleccionadas (Shots, SoT, SoT%, G/Sh, G/SoT). Un valor bajo de R^2 sugiere \n",
    "que el modelo no se ajusta bien a los datos.\n",
    "- Precisión en la predicción de los valores objetivos: El valor obtenido de 0.1492 también indica la \n",
    "precisión del modelo en la predicción de los valores objetivos. En este caso, la precisión es baja, \n",
    "lo que sugiere que el modelo no se ajusta bien a los datos y sus predicciones son limitadas.\n",
    "- Error absoluto medio (MAE): El valor obtenido de 1.0424 indica que, en promedio, las predicciones \n",
    "del modelo tienen un error absoluto medio de aproximadamente 1.0424 unidades en la escala de la\n",
    "variable objetivo (Goals). Un MAE más bajo indicaría una mejor precisión en las predicciones.\n",
    "\n",
    "En resumen, los resultados sugieren que el modelo de Elastic Net con las variables predictoras \n",
    "seleccionadas no es muy efectivo para predecir la variable objetivo (Goals). Es posible que se \n",
    "requieran más variables o un enfoque de modelado diferente para mejorar la precisión de las predicciones.\n",
    "'''"
   ]
  },
  {
   "cell_type": "code",
   "execution_count": null,
   "id": "f9325cf1",
   "metadata": {},
   "outputs": [],
   "source": [
    "#Evaluación si se esta experimentando una situación de overfitting o underfitting con modelo Elastic Net"
   ]
  },
  {
   "cell_type": "code",
   "execution_count": null,
   "id": "86a72f29",
   "metadata": {},
   "outputs": [],
   "source": [
    "'''\n",
    "El modelo de Elastic Net parece estar experimentando un caso de underfitting,\n",
    "ya que muestra un desempeño limitado tanto en el conjunto de entrenamiento como en el conjunto de prueba.\n",
    "Esto se refleja en los valores moderados del coeficiente de determinación (R^2) y los errores \n",
    "(MSE y MAE), lo que indica que el modelo no está capturando adecuadamente la relación entre las \n",
    "variables de entrada y la variable objetivo.\n",
    "'''"
   ]
  },
  {
   "cell_type": "code",
   "execution_count": null,
   "id": "f03f8750",
   "metadata": {},
   "outputs": [],
   "source": [
    "#Formas de Mejorar Modelo"
   ]
  },
  {
   "cell_type": "code",
   "execution_count": null,
   "id": "c74bf01e",
   "metadata": {},
   "outputs": [],
   "source": [
    "#Ajuste de Hiperparametros"
   ]
  },
  {
   "cell_type": "code",
   "execution_count": 29,
   "id": "d0eddbdf",
   "metadata": {
    "scrolled": true
   },
   "outputs": [
    {
     "name": "stdout",
     "output_type": "stream",
     "text": [
      "Mejores hiperparámetros: {'alpha': 0.1, 'l1_ratio': 0.9}\n",
      "Error cuadrático medio (MSE) - Conjunto de entrenamiento: 3.420932607883566\n",
      "Error cuadrático medio (MSE) - Conjunto de prueba: 2.903501202996976\n",
      "Coeficiente de determinación (R^2) - Conjunto de entrenamiento: 0.16256611515822927\n",
      "Coeficiente de determinación (R^2) - Conjunto de prueba: 0.2603353991224575\n",
      "Error absoluto medio (MAE) - Conjunto de entrenamiento: 0.31082945339684603\n",
      "Error absoluto medio (MAE) - Conjunto de prueba: 0.399162829832605\n"
     ]
    }
   ],
   "source": [
    "from sklearn.model_selection import GridSearchCV\n",
    "\n",
    "# Definir los valores de los hiperparámetros a probar\n",
    "param_grid = {'alpha': [0.1, 0.5, 1.0],\n",
    "              'l1_ratio': [0.1, 0.3, 0.5, 0.7, 0.9]}\n",
    "\n",
    "# Crear el modelo ElasticNet\n",
    "model = ElasticNet()\n",
    "\n",
    "# Realizar la búsqueda de hiperparámetros mediante validación cruzada\n",
    "grid_search = GridSearchCV(model, param_grid, cv=5)\n",
    "\n",
    "# Entrenar el modelo con la búsqueda de hiperparámetros\n",
    "grid_search.fit(X_train, y_train)\n",
    "\n",
    "# Obtener los mejores hiperparámetros encontrados\n",
    "best_params = grid_search.best_params_\n",
    "\n",
    "# Crear un nuevo modelo con los mejores hiperparámetros\n",
    "best_model = ElasticNet(alpha=best_params['alpha'], l1_ratio=best_params['l1_ratio'])\n",
    "\n",
    "# Entrenar el modelo con los mejores hiperparámetros\n",
    "best_model.fit(X_train, y_train)\n",
    "\n",
    "# Calcular el error cuadrático medio (MSE) en el conjunto de entrenamiento\n",
    "mse_train = mean_squared_error(y_train, y_pred_train)\n",
    "\n",
    "# Realizar predicciones en el conjunto de prueba con el mejor modelo\n",
    "y_pred = best_model.predict(X_test)\n",
    "\n",
    "# Obtener el error cuadrático medio (MSE) en el conjunto de prueba\n",
    "mse_test = mean_squared_error(y_test, y_pred)\n",
    "\n",
    "# Calcular el coeficiente de determinación (R^2) en el conjunto de entrenamiento y conjunto de prueba\n",
    "r2_train = r2_score(y_train, y_pred_train)\n",
    "r2_test = r2_score(y_test, y_pred)\n",
    "\n",
    "# Imprimir los resultados\n",
    "print(\"Mejores hiperparámetros:\", best_params)\n",
    "print(\"Error cuadrático medio (MSE) - Conjunto de entrenamiento:\", mse_train)\n",
    "print(\"Error cuadrático medio (MSE) - Conjunto de prueba:\", mse_test)\n",
    "print(\"Coeficiente de determinación (R^2) - Conjunto de entrenamiento:\", r2_train)\n",
    "print(\"Coeficiente de determinación (R^2) - Conjunto de prueba:\", r2_test)\n",
    "print(\"Error absoluto medio (MAE) - Conjunto de entrenamiento:\", mae_train)\n",
    "print(\"Error absoluto medio (MAE) - Conjunto de prueba:\", mae_test)"
   ]
  },
  {
   "cell_type": "code",
   "execution_count": null,
   "id": "819988ac",
   "metadata": {},
   "outputs": [],
   "source": [
    "'''\n",
    "Con estas conclusiones, podemos afirmar que ajustar los hiperparámetros mejoró el rendimiento del modelo. \n",
    "El MSE disminuyó en comparación con los resultados anteriores, \n",
    "\n",
    "Error cuadrático medio (MSE) - Conjunto de prueba:\n",
    "\n",
    "Modelo original: 3.3396425145587667\n",
    "Modelo después del ajuste de hiperparámetros: 2.903501202996976\n",
    "\n",
    "lo que indica que el modelo ajustado con los mejores hiperparámetros tiene una capacidad de predicción \n",
    "más precisa en comparación con el modelo original. Esto significa que la combinación de un valor de \n",
    "alpha de 0.1 y un valor de l1_ratio de 0.9 proporciona un mejor ajuste a los datos y reduce \n",
    "el error de predicción.\n",
    "'''"
   ]
  },
  {
   "cell_type": "code",
   "execution_count": null,
   "id": "aa123f9d",
   "metadata": {},
   "outputs": [],
   "source": [
    "#Conclusiones Comparando Modelos Finales de Random Forest y Elastic Net\n",
    "'''\n",
    "Teniendo en cuenta los resultados finales, el modelo Random Forest parece ser una mejor elección en \n",
    "comparación con el modelo Elastic Net. Esto se debe a que el modelo Random Forest presenta valores\n",
    "más bajos de error cuadrático medio (MSE) tanto en el conjunto de entrenamiento como en el conjunto \n",
    "de prueba, lo que indica una mejor capacidad de predicción y ajuste a los datos. Además, el coeficiente\n",
    "de determinación (R^2) es más alto en el modelo Random Forest, lo que indica que este modelo explica \n",
    "una mayor proporción de la varianza en los datos objetivo.\n",
    "\n",
    "En resumen, el modelo Random Forest parece ser más efectivo en este caso, ya que tiene un mejor \n",
    "rendimiento y capacidad predictiva en comparación con el modelo Elastic Net.\n",
    "'''"
   ]
  }
 ],
 "metadata": {
  "kernelspec": {
   "display_name": "Python 3 (ipykernel)",
   "language": "python",
   "name": "python3"
  },
  "language_info": {
   "codemirror_mode": {
    "name": "ipython",
    "version": 3
   },
   "file_extension": ".py",
   "mimetype": "text/x-python",
   "name": "python",
   "nbconvert_exporter": "python",
   "pygments_lexer": "ipython3",
   "version": "3.8.3"
  }
 },
 "nbformat": 4,
 "nbformat_minor": 5
}
