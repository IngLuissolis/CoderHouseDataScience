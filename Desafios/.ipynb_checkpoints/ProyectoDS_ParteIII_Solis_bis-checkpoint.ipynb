{
 "cells": [
  {
   "cell_type": "code",
   "execution_count": 2,
   "id": "af3bc950",
   "metadata": {},
   "outputs": [
    {
     "data": {
      "text/plain": [
       "'\\nMotivación: El análisis de datos en el fútbol ha ganado una gran importancia en los últimos años, ya que proporciona \\ninformación valiosa sobre el desempeño de los jugadores y equipos. En este contexto, el presente conjunto de datos \\nofrece una amplia variedad de variables que capturan diversos aspectos del juego. Describir estas variables de manera \\nprecisa y comprensible es fundamental para que entrenadores, analistas y aficionados puedan interpretar y utilizar la \\ninformación de manera efectiva.\\n\\nAudiencia: Este resumen está dirigido a entrenadores, analistas y aficionados del fútbol que estén interesados en comprender\\ny utilizar el conjunto de datos proporcionado. La descripción detallada de las variables les permitirá tener una visión \\ngeneral de la información disponible y utilizarla para evaluar el rendimiento de los jugadores en diferentes aspectos \\ndel juego, como goles, tiros, pases, regates, defensa, entre otros. Además, este resumen también puede ser útil para \\ninvestigadores o estudiantes que estén interesados en el análisis de datos en el fútbol y deseen explorar más a fondo el \\nconjunto de datos proporcionado.\\n'"
      ]
     },
     "execution_count": 2,
     "metadata": {},
     "output_type": "execute_result"
    }
   ],
   "source": [
    "# Abstracto - Vendeme esta Pluma!!!\n",
    "'''\n",
    "Motivación: El análisis de datos en el fútbol ha ganado una gran importancia en los últimos años, ya que proporciona \n",
    "información valiosa sobre el desempeño de los jugadores y equipos. En este contexto, el presente conjunto de datos \n",
    "ofrece una amplia variedad de variables que capturan diversos aspectos del juego. Describir estas variables de manera \n",
    "precisa y comprensible es fundamental para que entrenadores, analistas y aficionados puedan interpretar y utilizar la \n",
    "información de manera efectiva.\n",
    "\n",
    "Audiencia: Este resumen está dirigido a entrenadores, analistas y aficionados del fútbol que estén interesados en comprender\n",
    "y utilizar el conjunto de datos proporcionado. La descripción detallada de las variables les permitirá tener una visión \n",
    "general de la información disponible y utilizarla para evaluar el rendimiento de los jugadores en diferentes aspectos \n",
    "del juego, como goles, tiros, pases, regates, defensa, entre otros. Además, este resumen también puede ser útil para \n",
    "investigadores o estudiantes que estén interesados en el análisis de datos en el fútbol y deseen explorar más a fondo el \n",
    "conjunto de datos proporcionado.\n",
    "'''"
   ]
  },
  {
   "cell_type": "code",
   "execution_count": 3,
   "id": "8ad9ca38",
   "metadata": {},
   "outputs": [
    {
     "data": {
      "text/plain": [
       "'\\nAlgunas posibles preguntas/hipótesis que podríamos resolver mediante el análisis de los datos descritos podrían ser:\\n\\n1. ¿Cuáles son los jugadores más efectivos en términos de goles marcados? ¿Existen diferencias significativas entre \\nlos distintos equipos en cuanto a la producción de goles?\\n2. ¿Existe una relación entre la precisión de los pases de un jugador y su capacidad para crear oportunidades de gol \\npara su equipo?\\n3. ¿Cuál es el porcentaje de éxito de los regates realizados por los jugadores? ¿Algunos jugadores destacan por su habilidad\\npara eludir a los defensores?\\n4. ¿Qué jugadores tienen la mejor capacidad defensiva en términos de bloqueo de tiros y recuperación de balones?\\n5. ¿Existe alguna correlación entre la edad de los jugadores y su rendimiento en el campo?\\n6. ¿Hay diferencias significativas en el rendimiento de los jugadores en función de su posición en el campo (delantero, \\ncentrocampista, defensor, portero)?\\n7. ¿Existe alguna relación entre la altura de los jugadores y su capacidad para ganar duelos aéreos?\\n8. ¿Cuál es el equipo con el mejor desempeño general en términos de todas las variables analizadas?\\n\\nEstas preguntas y hipótesis son solo ejemplos y podrían variar dependiendo de los intereses y objetivos específicos del \\nanálisis de datos que se realice.\\n'"
      ]
     },
     "execution_count": 3,
     "metadata": {},
     "output_type": "execute_result"
    }
   ],
   "source": [
    "#Preguntas / Hipotesis\n",
    "'''\n",
    "Algunas posibles preguntas/hipótesis que podríamos resolver mediante el análisis de los datos descritos podrían ser:\n",
    "\n",
    "1. ¿Cuáles son los jugadores más efectivos en términos de goles marcados? ¿Existen diferencias significativas entre \n",
    "los distintos equipos en cuanto a la producción de goles?\n",
    "2. ¿Existe una relación entre la precisión de los pases de un jugador y su capacidad para crear oportunidades de gol \n",
    "para su equipo?\n",
    "3. ¿Cuál es el porcentaje de éxito de los regates realizados por los jugadores? ¿Algunos jugadores destacan por su habilidad\n",
    "para eludir a los defensores?\n",
    "4. ¿Qué jugadores tienen la mejor capacidad defensiva en términos de bloqueo de tiros y recuperación de balones?\n",
    "5. ¿Existe alguna correlación entre la edad de los jugadores y su rendimiento en el campo?\n",
    "6. ¿Hay diferencias significativas en el rendimiento de los jugadores en función de su posición en el campo (delantero, \n",
    "centrocampista, defensor, portero)?\n",
    "7. ¿Existe alguna relación entre la altura de los jugadores y su capacidad para ganar duelos aéreos?\n",
    "8. ¿Cuál es el equipo con el mejor desempeño general en términos de todas las variables analizadas?\n",
    "\n",
    "Estas preguntas y hipótesis son solo ejemplos y podrían variar dependiendo de los intereses y objetivos específicos del \n",
    "análisis de datos que se realice.\n",
    "'''"
   ]
  },
  {
   "cell_type": "code",
   "execution_count": 4,
   "id": "cf50508f",
   "metadata": {},
   "outputs": [
    {
     "data": {
      "text/plain": [
       "'\\nObjetivo: \\nAnalizar el rendimiento de los jugadores y equipos de fútbol utilizando variables como goles marcados, \\nprecisión de pases, regates exitosos, habilidades defensivas, edad, posición en el campo, altura, entre otros, con el fin \\nde identificar patrones y relaciones significativas. Además, determinar el equipo con el mejor desempeño general en función \\nde todas las variables analizadas.\\n\\nContexto Comercial:\\nEn el contexto comercial, nos encontramos en la industria del fútbol y nuestro objetivo es proporcionar información y \\nanálisis útiles para diferentes actores dentro de este ámbito. Esto puede incluir clubes de fútbol, directores técnicos, \\nagentes de jugadores y otros profesionales involucrados en la toma de decisiones estratégicas y operativas.\\n\\nProblema Comercial:\\nEl problema comercial que abordamos es la necesidad de comprender y evaluar el rendimiento de los jugadores y equipos de \\nfútbol en función de diversas variables. Esto es crucial para la identificación de talentos, la selección de jugadores, el \\nanálisis comparativo de equipos y la toma de decisiones relacionadas con el desarrollo de estrategias de juego y fichajes.\\n\\nContexto Analítico:\\nEn el contexto analítico, utilizaremos técnicas de análisis de datos para examinar y comprender los patrones, tendencias y \\nrelaciones existentes en los datos recopilados. Aplicaremos métodos estadísticos y de visualización para explorar las \\nvariables relevantes y extraer información significativa que pueda respaldar la toma de decisiones en el ámbito futbolístico.\\n\\nExploración de Datos (EDA):\\nLa exploración de datos (EDA) se llevará a cabo mediante el análisis detallado de las variables disponibles, utilizando \\nherramientas y técnicas de programación en Python. Realizaremos cálculos estadísticos, visualizaciones gráficas y otras \\ntécnicas exploratorias para comprender mejor el comportamiento de los jugadores y equipos en términos de goles marcados, \\nprecisión de pases, regates exitosos, habilidades defensivas, edad, posición en el campo, altura y otras variables relevantes.\\n\\nA través de este análisis, buscamos descubrir patrones, correlaciones y tendencias significativas que puedan brindar \\ninsights valiosos para los actores involucrados en la industria del fútbol y ayudarles a tomar decisiones más informadas \\ny estratégicas.\\n'"
      ]
     },
     "execution_count": 4,
     "metadata": {},
     "output_type": "execute_result"
    }
   ],
   "source": [
    "'''\n",
    "Objetivo: \n",
    "Analizar el rendimiento de los jugadores y equipos de fútbol utilizando variables como goles marcados, \n",
    "precisión de pases, regates exitosos, habilidades defensivas, edad, posición en el campo, altura, entre otros, con el fin \n",
    "de identificar patrones y relaciones significativas. Además, determinar el equipo con el mejor desempeño general en función \n",
    "de todas las variables analizadas.\n",
    "\n",
    "Contexto Comercial:\n",
    "En el contexto comercial, nos encontramos en la industria del fútbol y nuestro objetivo es proporcionar información y \n",
    "análisis útiles para diferentes actores dentro de este ámbito. Esto puede incluir clubes de fútbol, directores técnicos, \n",
    "agentes de jugadores y otros profesionales involucrados en la toma de decisiones estratégicas y operativas.\n",
    "\n",
    "Problema Comercial:\n",
    "El problema comercial que abordamos es la necesidad de comprender y evaluar el rendimiento de los jugadores y equipos de \n",
    "fútbol en función de diversas variables. Esto es crucial para la identificación de talentos, la selección de jugadores, el \n",
    "análisis comparativo de equipos y la toma de decisiones relacionadas con el desarrollo de estrategias de juego y fichajes.\n",
    "\n",
    "Contexto Analítico:\n",
    "En el contexto analítico, utilizaremos técnicas de análisis de datos para examinar y comprender los patrones, tendencias y \n",
    "relaciones existentes en los datos recopilados. Aplicaremos métodos estadísticos y de visualización para explorar las \n",
    "variables relevantes y extraer información significativa que pueda respaldar la toma de decisiones en el ámbito futbolístico.\n",
    "\n",
    "Exploración de Datos (EDA):\n",
    "La exploración de datos (EDA) se llevará a cabo mediante el análisis detallado de las variables disponibles, utilizando \n",
    "herramientas y técnicas de programación en Python. Realizaremos cálculos estadísticos, visualizaciones gráficas y otras \n",
    "técnicas exploratorias para comprender mejor el comportamiento de los jugadores y equipos en términos de goles marcados, \n",
    "precisión de pases, regates exitosos, habilidades defensivas, edad, posición en el campo, altura y otras variables relevantes.\n",
    "\n",
    "A través de este análisis, buscamos descubrir patrones, correlaciones y tendencias significativas que puedan brindar \n",
    "insights valiosos para los actores involucrados en la industria del fútbol y ayudarles a tomar decisiones más informadas \n",
    "y estratégicas.\n",
    "'''"
   ]
  },
  {
   "cell_type": "code",
   "execution_count": 5,
   "id": "f4424615",
   "metadata": {},
   "outputs": [],
   "source": [
    "#Analisis Exploratorio de Datos (EDA)"
   ]
  },
  {
   "cell_type": "code",
   "execution_count": 6,
   "id": "5af21a15",
   "metadata": {},
   "outputs": [
    {
     "name": "stdout",
     "output_type": "stream",
     "text": [
      "   Rk             Player Nation   Pos         Squad            Comp  Age  \\\n",
      "0   1   Brenden Aaronson    USA  MFFW  Leeds United  Premier League   22   \n",
      "1   2   Yunis Abdelhamid    MAR    DF         Reims         Ligue 1   35   \n",
      "2   3      Himad Abdelli    FRA  MFFW        Angers         Ligue 1   23   \n",
      "3   4  Salis Abdul Samed    GHA    MF          Lens         Ligue 1   22   \n",
      "4   5    Laurent Abergel    FRA    MF       Lorient         Ligue 1   30   \n",
      "\n",
      "   Born  MP  Starts  ...   Off   Crs  TklW  PKwon  PKcon    OG  Recov  AerWon  \\\n",
      "0  2000  20      19  ...  0.17  2.54  0.51    0.0    0.0  0.00   4.86    0.34   \n",
      "1  1987  22      22  ...  0.05  0.18  1.59    0.0    0.0  0.00   6.64    2.18   \n",
      "2  1999  14       8  ...  0.00  1.05  1.40    0.0    0.0  0.00   8.14    0.93   \n",
      "3  2000  20      20  ...  0.00  0.35  0.80    0.0    0.0  0.05   6.60    0.50   \n",
      "4  1993  15      15  ...  0.00  0.23  2.02    0.0    0.0  0.00   6.51    0.31   \n",
      "\n",
      "   AerLost  AerWon%  \n",
      "0     1.19     22.2  \n",
      "1     1.23     64.0  \n",
      "2     1.05     47.1  \n",
      "3     0.50     50.0  \n",
      "4     0.39     44.4  \n",
      "\n",
      "[5 rows x 124 columns]\n"
     ]
    }
   ],
   "source": [
    "import pandas as pd\n",
    "import numpy as np\n",
    "import matplotlib.pyplot as plt\n",
    "import seaborn as sns\n",
    "\n",
    "ruta_archivo = '../DataSets/2022-2023FootballPlayerStats.csv'\n",
    "df = pd.read_csv(ruta_archivo, encoding='ISO-8859-1', delimiter=';')\n",
    "\n",
    "# Ver las primeras filas del dataset\n",
    "print(df.head())"
   ]
  },
  {
   "cell_type": "code",
   "execution_count": 7,
   "id": "461cf5eb",
   "metadata": {},
   "outputs": [],
   "source": [
    "# feature selection - modelo algoritmo Random Forest"
   ]
  },
  {
   "cell_type": "code",
   "execution_count": 20,
   "id": "ffd2a286",
   "metadata": {},
   "outputs": [
    {
     "name": "stdout",
     "output_type": "stream",
     "text": [
      "Error cuadrático medio (MSE): 1.1805465209641097\n"
     ]
    }
   ],
   "source": [
    "from sklearn.ensemble import RandomForestRegressor\n",
    "from sklearn.model_selection import train_test_split\n",
    "from sklearn.metrics import mean_squared_error\n",
    "\n",
    "# Definir las variables predictoras (X) y la variable objetivo (y)\n",
    "# X = df.drop(['Player', 'Squad', 'Goals', 'Comp', 'Nation', 'Pos'], axis=1)\n",
    "X = df[['Shots', 'SoT', 'SoT%', 'G/Sh', 'G/SoT']]\n",
    "y = df['Goals']\n",
    "\n",
    "# Dividir el dataset en conjunto de entrenamiento y conjunto de prueba\n",
    "X_train, X_test, y_train, y_test = train_test_split(X, y, test_size=0.2, random_state=42)\n",
    "\n",
    "# Crear y entrenar el modelo de Random Forest\n",
    "model = RandomForestRegressor(random_state=42)\n",
    "model.fit(X_train, y_train)\n",
    "\n",
    "# Realizar predicciones en el conjunto de prueba\n",
    "y_pred = model.predict(X_test)\n",
    "\n",
    "# Calcular el Error Cuadrático Medio (MSE)\n",
    "mse = mean_squared_error(y_test, y_pred)\n",
    "print(\"Error cuadrático medio (MSE):\", mse)"
   ]
  },
  {
   "cell_type": "code",
   "execution_count": 21,
   "id": "356d79bd",
   "metadata": {
    "scrolled": true
   },
   "outputs": [
    {
     "name": "stdout",
     "output_type": "stream",
     "text": [
      "Coeficiente de determinación (R^2): 0.6992567213869347\n",
      "Precisión en la predicción de los valores objetivos: 0.7936802973977695\n",
      "Error absoluto medio (MAE): 0.40715663539269487\n"
     ]
    }
   ],
   "source": [
    "from sklearn.metrics import r2_score, accuracy_score, mean_absolute_error\n",
    "\n",
    "# Realizar predicciones en el conjunto de prueba\n",
    "y_pred = model.predict(X_test)\n",
    "\n",
    "# Calcular el coeficiente de determinación (R^2)\n",
    "r2 = r2_score(y_test, y_pred)\n",
    "print(\"Coeficiente de determinación (R^2):\", r2)\n",
    "\n",
    "# Calcular la precisión en la predicción de los valores objetivos\n",
    "accuracy = accuracy_score(y_test, y_pred.round())\n",
    "print(\"Precisión en la predicción de los valores objetivos:\", accuracy)\n",
    "\n",
    "# Calcular el error absoluto medio (MAE)\n",
    "mae = mean_absolute_error(y_test, y_pred)\n",
    "print(\"Error absoluto medio (MAE):\", mae)\n",
    "\n",
    "# Realizar el análisis de residuos (opcional)\n",
    "residuals = y_test - y_pred\n",
    "# Aquí puedes realizar el análisis de residuos que consideres adecuado"
   ]
  },
  {
   "cell_type": "code",
   "execution_count": null,
   "id": "a4e491ad",
   "metadata": {},
   "outputs": [],
   "source": [
    "'''\n",
    "Basándonos en los resultados obtenidos, podemos inferir las siguientes conclusiones:\n",
    "-Coeficiente de determinación (R^2): El valor obtenido de 0.699 indica que aproximadamente el 69.9% \n",
    "de la varianza en los datos de prueba se explica por el modelo de Random Forest. Esto sugiere que el \n",
    "modelo tiene una capacidad moderada para explicar la variabilidad en los datos objetivo. Sin embargo, \n",
    "aún hay margen de mejora para capturar una mayor proporción de la varianza en los datos.\n",
    "\n",
    "-Precisión en la predicción de los valores objetivos: El valor obtenido de 0.794 indica que el modelo \n",
    "tiene una precisión del 79.4% en la clasificación correcta de los valores objetivos en el conjunto de \n",
    "prueba. Esta métrica solo es relevante si el problema es de clasificación y la variable objetivo ha \n",
    "sido transformada en una variable categórica. En este caso, el modelo muestra una precisión razonable \n",
    "en la predicción de las clases objetivo.\n",
    "\n",
    "-Error absoluto medio (MAE): El valor obtenido de 0.407 indica que, en promedio, existe una diferencia \n",
    "de aproximadamente 0.407 entre los valores reales y las predicciones del modelo. Esto proporciona una \n",
    "medida de la magnitud promedio de los errores de predicción. Un valor bajo de MAE indica que el modelo \n",
    "tiende a tener un buen rendimiento en la predicción de los valores objetivo.\n",
    "\n",
    "En general, estas métricas sugieren que el modelo de Random Forest tiene una capacidad moderada para \n",
    "explicar y predecir los valores objetivo. Sin embargo, es importante tener en cuenta el contexto y las \n",
    "características específicas del problema para una interpretación completa de los resultados. Es posible \n",
    "que se requieran ajustes adicionales en el modelo o la exploración de otras técnicas para mejorar su \n",
    "rendimiento.\n",
    "'''"
   ]
  },
  {
   "cell_type": "code",
   "execution_count": null,
   "id": "b4165234",
   "metadata": {},
   "outputs": [],
   "source": [
    "# feature selection - modelo algoritmo Elastic Net"
   ]
  },
  {
   "cell_type": "code",
   "execution_count": 24,
   "id": "f1cc412c",
   "metadata": {
    "scrolled": true
   },
   "outputs": [
    {
     "name": "stdout",
     "output_type": "stream",
     "text": [
      "  Variable  Coeficiente\n",
      "0    Shots     0.210241\n",
      "2     SoT%     0.023476\n",
      "1      SoT     0.000000\n",
      "3     G/Sh     0.000000\n",
      "4    G/SoT     0.000000\n",
      "Error cuadrático medio (MSE): 3.3396425145587667\n"
     ]
    }
   ],
   "source": [
    "from sklearn.model_selection import train_test_split\n",
    "from sklearn.linear_model import ElasticNet\n",
    "from sklearn.metrics import mean_squared_error\n",
    "\n",
    "# Cargar los datos\n",
    "df = pd.read_csv(ruta_archivo, encoding='ISO-8859-1', delimiter=';')\n",
    "\n",
    "#Variables de Analisis\n",
    "features = ['Shots', 'SoT', 'SoT%', 'G/Sh', 'G/SoT']\n",
    "\n",
    "# Dividir los datos en conjunto de entrenamiento y prueba\n",
    "X_train, X_test, y_train, y_test = train_test_split(df[features], df['Goals'], test_size=0.2, random_state=42)\n",
    "\n",
    "# Crear el modelo Elastic Net\n",
    "model = ElasticNet(alpha=0.5, l1_ratio=0.5)\n",
    "\n",
    "# Entrenar el modelo\n",
    "model.fit(X_train, y_train)\n",
    "\n",
    "# Obtener los coeficientes del modelo\n",
    "coeficients = model.coef_\n",
    "\n",
    "# Crear un dataframe con los coeficientes y las variables correspondientes\n",
    "coef_df = pd.DataFrame({'Variable': features, 'Coeficiente': coeficients})\n",
    "\n",
    "# Ordenar los coeficientes de mayor a menor\n",
    "coef_df = coef_df.sort_values(by='Coeficiente', ascending=False)\n",
    "\n",
    "# Mostrar los coeficientes\n",
    "print(coef_df)\n",
    "\n",
    "# Realizar predicciones en el conjunto de prueba\n",
    "y_pred = model.predict(X_test)\n",
    "\n",
    "# Evaluar el modelo utilizando el error cuadrático medio (MSE)\n",
    "mse = mean_squared_error(y_test, y_pred)\n",
    "print(\"Error cuadrático medio (MSE):\", mse)"
   ]
  },
  {
   "cell_type": "code",
   "execution_count": 25,
   "id": "164a1ea5",
   "metadata": {
    "scrolled": true
   },
   "outputs": [
    {
     "name": "stdout",
     "output_type": "stream",
     "text": [
      "Coeficiente de determinación (R^2): 0.14922875008453873\n",
      "Precisión en la predicción de los valores objetivos: 0.14922875008453873\n",
      "Error absoluto medio (MAE): 1.042423816912241\n"
     ]
    }
   ],
   "source": [
    "from sklearn.metrics import r2_score, mean_absolute_error\n",
    "\n",
    "# Calcular el coeficiente de determinación (R^2)\n",
    "r2 = r2_score(y_test, y_pred)\n",
    "print(\"Coeficiente de determinación (R^2):\", r2)\n",
    "\n",
    "# Calcular la precisión en la predicción de los valores objetivos\n",
    "precision = model.score(X_test, y_test)\n",
    "print(\"Precisión en la predicción de los valores objetivos:\", precision)\n",
    "\n",
    "# Calcular el error absoluto medio (MAE)\n",
    "mae = mean_absolute_error(y_test, y_pred)\n",
    "print(\"Error absoluto medio (MAE):\", mae)"
   ]
  },
  {
   "cell_type": "code",
   "execution_count": null,
   "id": "e4874829",
   "metadata": {},
   "outputs": [],
   "source": [
    "'''\n",
    "Los resultados obtenidos del código indican lo siguiente:\n",
    "- Coeficiente de determinación (R^2): El valor obtenido de 0.1492 indica que el modelo de Elastic Net \n",
    "puede explicar aproximadamente el 14.92% de la variabilidad de la variable objetivo (Goals) utilizando \n",
    "las variables predictoras seleccionadas (Shots, SoT, SoT%, G/Sh, G/SoT). Un valor bajo de R^2 sugiere \n",
    "que el modelo no se ajusta bien a los datos.\n",
    "- Precisión en la predicción de los valores objetivos: El valor obtenido de 0.1492 también indica la \n",
    "precisión del modelo en la predicción de los valores objetivos. En este caso, la precisión es baja, \n",
    "lo que sugiere que el modelo no se ajusta bien a los datos y sus predicciones son limitadas.\n",
    "- Error absoluto medio (MAE): El valor obtenido de 1.0424 indica que, en promedio, las predicciones \n",
    "del modelo tienen un error absoluto medio de aproximadamente 1.0424 unidades en la escala de la\n",
    "variable objetivo (Goals). Un MAE más bajo indicaría una mejor precisión en las predicciones.\n",
    "\n",
    "En resumen, los resultados sugieren que el modelo de Elastic Net con las variables predictoras \n",
    "seleccionadas no es muy efectivo para predecir la variable objetivo (Goals). Es posible que se \n",
    "requieran más variables o un enfoque de modelado diferente para mejorar la precisión de las predicciones.\n",
    "'''"
   ]
  }
 ],
 "metadata": {
  "kernelspec": {
   "display_name": "Python 3 (ipykernel)",
   "language": "python",
   "name": "python3"
  },
  "language_info": {
   "codemirror_mode": {
    "name": "ipython",
    "version": 3
   },
   "file_extension": ".py",
   "mimetype": "text/x-python",
   "name": "python",
   "nbconvert_exporter": "python",
   "pygments_lexer": "ipython3",
   "version": "3.8.3"
  }
 },
 "nbformat": 4,
 "nbformat_minor": 5
}
