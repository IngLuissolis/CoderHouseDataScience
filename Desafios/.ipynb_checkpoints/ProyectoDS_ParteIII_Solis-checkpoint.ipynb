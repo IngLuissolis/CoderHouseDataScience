{
 "cells": [
  {
   "cell_type": "code",
   "execution_count": null,
   "id": "7e42564f",
   "metadata": {},
   "outputs": [],
   "source": [
    "# Abstracto - Vendeme esta Pluma!!!\n",
    "'''\n",
    "Motivación: El análisis de datos en el fútbol ha ganado una gran importancia en los últimos años, ya que proporciona \n",
    "información valiosa sobre el desempeño de los jugadores y equipos. En este contexto, el presente conjunto de datos \n",
    "ofrece una amplia variedad de variables que capturan diversos aspectos del juego. Describir estas variables de manera \n",
    "precisa y comprensible es fundamental para que entrenadores, analistas y aficionados puedan interpretar y utilizar la \n",
    "información de manera efectiva.\n",
    "\n",
    "Audiencia: Este resumen está dirigido a entrenadores, analistas y aficionados del fútbol que estén interesados en comprender\n",
    "y utilizar el conjunto de datos proporcionado. La descripción detallada de las variables les permitirá tener una visión \n",
    "general de la información disponible y utilizarla para evaluar el rendimiento de los jugadores en diferentes aspectos \n",
    "del juego, como goles, tiros, pases, regates, defensa, entre otros. Además, este resumen también puede ser útil para \n",
    "investigadores o estudiantes que estén interesados en el análisis de datos en el fútbol y deseen explorar más a fondo el \n",
    "conjunto de datos proporcionado."
   ]
  },
  {
   "cell_type": "code",
   "execution_count": null,
   "id": "bcaf8195",
   "metadata": {},
   "outputs": [],
   "source": [
    "#Preguntas / Hipotesis\n",
    "'''\n",
    "Algunas posibles preguntas/hipótesis que podríamos resolver mediante el análisis de los datos descritos podrían ser:\n",
    "\n",
    "1. ¿Cuáles son los jugadores más efectivos en términos de goles marcados? ¿Existen diferencias significativas entre \n",
    "los distintos equipos en cuanto a la producción de goles?\n",
    "2. ¿Existe una relación entre la precisión de los pases de un jugador y su capacidad para crear oportunidades de gol \n",
    "para su equipo?\n",
    "3. ¿Cuál es el porcentaje de éxito de los regates realizados por los jugadores? ¿Algunos jugadores destacan por su habilidad\n",
    "para eludir a los defensores?\n",
    "4. ¿Qué jugadores tienen la mejor capacidad defensiva en términos de bloqueo de tiros y recuperación de balones?\n",
    "5. ¿Existe alguna correlación entre la edad de los jugadores y su rendimiento en el campo?\n",
    "6. ¿Hay diferencias significativas en el rendimiento de los jugadores en función de su posición en el campo (delantero, \n",
    "centrocampista, defensor, portero)?\n",
    "7. ¿Existe alguna relación entre la altura de los jugadores y su capacidad para ganar duelos aéreos?\n",
    "8. ¿Cuál es el equipo con el mejor desempeño general en términos de todas las variables analizadas?\n",
    "\n",
    "Estas preguntas y hipótesis son solo ejemplos y podrían variar dependiendo de los intereses y objetivos específicos del \n",
    "análisis de datos que se realice.\n",
    "'''"
   ]
  },
  {
   "cell_type": "code",
   "execution_count": null,
   "id": "4d8d9938",
   "metadata": {},
   "outputs": [],
   "source": [
    "'''\n",
    "Objetivo: \n",
    "Analizar el rendimiento de los jugadores y equipos de fútbol utilizando variables como goles marcados, \n",
    "precisión de pases, regates exitosos, habilidades defensivas, edad, posición en el campo, altura, entre otros, con el fin \n",
    "de identificar patrones y relaciones significativas. Además, determinar el equipo con el mejor desempeño general en función \n",
    "de todas las variables analizadas.\n",
    "\n",
    "Contexto Comercial:\n",
    "En el contexto comercial, nos encontramos en la industria del fútbol y nuestro objetivo es proporcionar información y \n",
    "análisis útiles para diferentes actores dentro de este ámbito. Esto puede incluir clubes de fútbol, directores técnicos, \n",
    "agentes de jugadores y otros profesionales involucrados en la toma de decisiones estratégicas y operativas.\n",
    "\n",
    "Problema Comercial:\n",
    "El problema comercial que abordamos es la necesidad de comprender y evaluar el rendimiento de los jugadores y equipos de \n",
    "fútbol en función de diversas variables. Esto es crucial para la identificación de talentos, la selección de jugadores, el \n",
    "análisis comparativo de equipos y la toma de decisiones relacionadas con el desarrollo de estrategias de juego y fichajes.\n",
    "\n",
    "Contexto Analítico:\n",
    "En el contexto analítico, utilizaremos técnicas de análisis de datos para examinar y comprender los patrones, tendencias y \n",
    "relaciones existentes en los datos recopilados. Aplicaremos métodos estadísticos y de visualización para explorar las \n",
    "variables relevantes y extraer información significativa que pueda respaldar la toma de decisiones en el ámbito futbolístico.\n",
    "\n",
    "Exploración de Datos (EDA):\n",
    "La exploración de datos (EDA) se llevará a cabo mediante el análisis detallado de las variables disponibles, utilizando \n",
    "herramientas y técnicas de programación en Python. Realizaremos cálculos estadísticos, visualizaciones gráficas y otras \n",
    "técnicas exploratorias para comprender mejor el comportamiento de los jugadores y equipos en términos de goles marcados, \n",
    "precisión de pases, regates exitosos, habilidades defensivas, edad, posición en el campo, altura y otras variables relevantes.\n",
    "\n",
    "A través de este análisis, buscamos descubrir patrones, correlaciones y tendencias significativas que puedan brindar \n",
    "insights valiosos para los actores involucrados en la industria del fútbol y ayudarles a tomar decisiones más informadas \n",
    "y estratégicas.\n",
    "'''"
   ]
  },
  {
   "cell_type": "code",
   "execution_count": null,
   "id": "2792808f",
   "metadata": {},
   "outputs": [],
   "source": [
    "#Analisis Exploratorio de Datos (EDA)"
   ]
  },
  {
   "cell_type": "code",
   "execution_count": 2,
   "id": "775a5535",
   "metadata": {
    "scrolled": false
   },
   "outputs": [
    {
     "name": "stdout",
     "output_type": "stream",
     "text": [
      "   Rk             Player Nation   Pos         Squad            Comp  Age  \\\n",
      "0   1   Brenden Aaronson    USA  MFFW  Leeds United  Premier League   22   \n",
      "1   2   Yunis Abdelhamid    MAR    DF         Reims         Ligue 1   35   \n",
      "2   3      Himad Abdelli    FRA  MFFW        Angers         Ligue 1   23   \n",
      "3   4  Salis Abdul Samed    GHA    MF          Lens         Ligue 1   22   \n",
      "4   5    Laurent Abergel    FRA    MF       Lorient         Ligue 1   30   \n",
      "\n",
      "   Born  MP  Starts  ...   Off   Crs  TklW  PKwon  PKcon    OG  Recov  AerWon  \\\n",
      "0  2000  20      19  ...  0.17  2.54  0.51    0.0    0.0  0.00   4.86    0.34   \n",
      "1  1987  22      22  ...  0.05  0.18  1.59    0.0    0.0  0.00   6.64    2.18   \n",
      "2  1999  14       8  ...  0.00  1.05  1.40    0.0    0.0  0.00   8.14    0.93   \n",
      "3  2000  20      20  ...  0.00  0.35  0.80    0.0    0.0  0.05   6.60    0.50   \n",
      "4  1993  15      15  ...  0.00  0.23  2.02    0.0    0.0  0.00   6.51    0.31   \n",
      "\n",
      "   AerLost  AerWon%  \n",
      "0     1.19     22.2  \n",
      "1     1.23     64.0  \n",
      "2     1.05     47.1  \n",
      "3     0.50     50.0  \n",
      "4     0.39     44.4  \n",
      "\n",
      "[5 rows x 124 columns]\n"
     ]
    }
   ],
   "source": [
    "import pandas as pd\n",
    "import numpy as np\n",
    "import matplotlib.pyplot as plt\n",
    "import seaborn as sns\n",
    "\n",
    "ruta_archivo = '../DataSets/2022-2023FootballPlayerStats.csv'\n",
    "df = pd.read_csv(ruta_archivo, encoding='ISO-8859-1', delimiter=';')\n",
    "\n",
    "# Ver las primeras filas del dataset\n",
    "print(df.head())"
   ]
  },
  {
   "cell_type": "code",
   "execution_count": null,
   "id": "510f2fe8",
   "metadata": {},
   "outputs": [],
   "source": [
    "# feature selection - coeficiente de correlación de Pearson"
   ]
  },
  {
   "cell_type": "code",
   "execution_count": 19,
   "id": "786bbcd2",
   "metadata": {},
   "outputs": [
    {
     "name": "stdout",
     "output_type": "stream",
     "text": [
      "               Rk       Age      Born        MP    Starts       Min       90s  \\\n",
      "Rk       1.000000  0.001364 -0.002281 -0.010331  0.003353  0.002299  0.002293   \n",
      "Age      0.001364  1.000000 -0.996484  0.210023  0.221521  0.226413  0.226318   \n",
      "Born    -0.002281 -0.996484  1.000000 -0.210304 -0.222210 -0.227305 -0.227203   \n",
      "MP      -0.010331  0.210023 -0.210304  1.000000  0.880648  0.904411  0.904391   \n",
      "Starts   0.003353  0.221521 -0.222210  0.880648  1.000000  0.991729  0.991712   \n",
      "...           ...       ...       ...       ...       ...       ...       ...   \n",
      "OG       0.014366  0.011199 -0.009196  0.023664  0.052203  0.053378  0.053401   \n",
      "Recov   -0.031583 -0.095573  0.095720 -0.009538 -0.030901 -0.031181 -0.031168   \n",
      "AerWon   0.016433  0.032656 -0.032048 -0.039354 -0.066359 -0.060970 -0.060875   \n",
      "AerLost -0.022540 -0.061413  0.063205 -0.119663 -0.185783 -0.183096 -0.183058   \n",
      "AerWon%  0.014377  0.168648 -0.169901  0.280211  0.319235  0.332503  0.332584   \n",
      "\n",
      "            Goals     Shots       SoT  ...       Off       Crs      TklW  \\\n",
      "Rk      -0.010008 -0.019658 -0.009466  ... -0.011446 -0.007481 -0.025783   \n",
      "Age      0.054439 -0.087978 -0.073615  ...  0.017875 -0.009749 -0.126815   \n",
      "Born    -0.057022  0.083698  0.071046  ... -0.019626  0.010015  0.125687   \n",
      "MP       0.406545  0.005004  0.013794  ... -0.027870  0.002669 -0.082730   \n",
      "Starts   0.388112 -0.110989 -0.058702  ... -0.085837 -0.054515 -0.098747   \n",
      "...           ...       ...       ...  ...       ...       ...       ...   \n",
      "OG      -0.036795 -0.071213 -0.048695  ... -0.034618 -0.046678  0.003520   \n",
      "Recov   -0.120828  0.045627 -0.010975  ... -0.068311  0.108670  0.335463   \n",
      "AerWon   0.017349  0.109078  0.073825  ...  0.031999 -0.148123  0.030850   \n",
      "AerLost  0.046979  0.227004  0.214959  ...  0.139120 -0.077593  0.098248   \n",
      "AerWon% -0.029695 -0.150062 -0.112602  ... -0.114009 -0.155783 -0.062100   \n",
      "\n",
      "            PKwon     PKcon        OG     Recov    AerWon   AerLost   AerWon%  \n",
      "Rk      -0.001126 -0.029598  0.014366 -0.031583  0.016433 -0.022540  0.014377  \n",
      "Age     -0.034816 -0.000308  0.011199 -0.095573  0.032656 -0.061413  0.168648  \n",
      "Born     0.034781  0.001893 -0.009196  0.095720 -0.032048  0.063205 -0.169901  \n",
      "MP       0.084058 -0.019325  0.023664 -0.009538 -0.039354 -0.119663  0.280211  \n",
      "Starts   0.027070 -0.014577  0.052203 -0.030901 -0.066359 -0.185783  0.319235  \n",
      "...           ...       ...       ...       ...       ...       ...       ...  \n",
      "OG      -0.027496 -0.000874  1.000000  0.034591  0.028445 -0.017528  0.057073  \n",
      "Recov   -0.057221  0.015163  0.034591  1.000000  0.013750 -0.032835 -0.014700  \n",
      "AerWon   0.002717  0.002123  0.028445  0.013750  1.000000  0.431260  0.413994  \n",
      "AerLost  0.044832 -0.026845 -0.017528 -0.032835  0.431260  1.000000 -0.177754  \n",
      "AerWon% -0.037259  0.045483  0.057073 -0.014700  0.413994 -0.177754  1.000000  \n",
      "\n",
      "[119 rows x 119 columns]\n"
     ]
    }
   ],
   "source": [
    "# Calcular la matriz de correlación de Pearson\n",
    "correlation_matrix = df.corr(method='pearson')\n",
    "\n",
    "# Imprimir la matriz de correlación\n",
    "print(correlation_matrix)"
   ]
  },
  {
   "cell_type": "code",
   "execution_count": 21,
   "id": "d1627bbf",
   "metadata": {},
   "outputs": [
    {
     "data": {
      "text/plain": [
       "<matplotlib.image.AxesImage at 0x2c96177eb20>"
      ]
     },
     "execution_count": 21,
     "metadata": {},
     "output_type": "execute_result"
    },
    {
     "data": {
      "image/png": "[encoded data removed]",
      "text/plain": [
       "<Figure size 480x480 with 1 Axes>"
      ]
     },
     "metadata": {},
     "output_type": "display_data"
    }
   ],
   "source": [
    "#Grafico con la matriz de correlación\n",
    "plt.matshow(correlation_matrix)"
   ]
  },
  {
   "cell_type": "code",
   "execution_count": 46,
   "id": "bf4f4831",
   "metadata": {
    "scrolled": true
   },
   "outputs": [
    {
     "name": "stdout",
     "output_type": "stream",
     "text": [
      "Touches        TouLive        0.999996\n",
      "PasShoCmp      PasShoAtt      0.981389\n",
      "PasMedCmp      PasMedAtt      0.980644\n",
      "PasTotAtt      PasLive        0.976162\n",
      "PasTotCmp      PasTotAtt      0.971675\n",
      "               PasLive        0.970105\n",
      "PasTotAtt      TouLive        0.961283\n",
      "               Touches        0.961266\n",
      "PasLive        Touches        0.950122\n",
      "               TouLive        0.950119\n",
      "PasTotCmp      PasTotDist     0.934954\n",
      "Carries        Rec            0.924517\n",
      "PasTotCmp      TouLive        0.923592\n",
      "               Touches        0.923555\n",
      "PasTotDist     PasMedCmp      0.922879\n",
      "PasLive        Rec            0.921624\n",
      "Blocks         BlkPass        0.913027\n",
      "Tkl            Tkl+Int        0.912284\n",
      "PasTotAtt      PasTotDist     0.911768\n",
      "CarTotDist     CarPrgDist     0.906773\n",
      "PasTotDist     PasMedAtt      0.903435\n",
      "Touches        Rec            0.900507\n",
      "TouLive        Rec            0.900322\n",
      "PasLonCmp      PasLonAtt      0.893222\n",
      "PasTotDist     PasLive        0.892627\n",
      "PasLive        Carries        0.889288\n",
      "PasTotCmp      PasMedCmp      0.887495\n",
      "               PasMedAtt      0.885550\n",
      "               Rec            0.883120\n",
      "PasTotAtt      Rec            0.882724\n",
      "Touches        Carries        0.879905\n",
      "TouLive        Carries        0.879813\n",
      "SCA            ScaPassLive    0.879155\n",
      "ShoPK          PKatt          0.877622\n",
      "PasTotAtt      PasMedAtt      0.877350\n",
      "PasMedAtt      PasLive        0.871930\n",
      "PasTotAtt      Carries        0.866012\n",
      "PasTotCmp      Carries        0.865530\n",
      "PasLive        TouMid3rd      0.859307\n",
      "Carries        CarTotDist     0.854560\n",
      "PasMedCmp      PasLive        0.853927\n",
      "PasTotAtt      PasMedCmp      0.849185\n",
      "Touches        TouMid3rd      0.846135\n",
      "TouMid3rd      TouLive        0.846085\n",
      "G/Sh           G/SoT          0.839212\n",
      "CK             CkIn           0.836030\n",
      "PasTotDist     TouLive        0.833461\n",
      "               Touches        0.833350\n",
      "PasShoCmp      Rec            0.832884\n",
      "Tkl            TklWon         0.832475\n",
      "PasShoAtt      Rec            0.832456\n",
      "PasTotCmp      TouMid3rd      0.830675\n",
      "PasMedAtt      TouLive        0.830466\n",
      "               Touches        0.830325\n",
      "PasTotCmp      PasShoCmp      0.828599\n",
      "TouMid3rd      Rec            0.827867\n",
      "ToAtt          ToTkl          0.826760\n",
      "PasTotAtt      TouMid3rd      0.822596\n",
      "PasTotPrgDist  PasLonAtt      0.820255\n",
      "MP             MP                  NaN\n",
      "dtype: float64\n"
     ]
    }
   ],
   "source": [
    "# Filtrar las correlaciones mayores a 0.82 y descartar las variables repetidas\n",
    "filtered_corr = correlation_matrix[(correlation_matrix > 0.82) & (correlation_matrix < 1.0)].unstack().drop_duplicates()\n",
    "\n",
    "# Ordenar las correlaciones de mayor a menor\n",
    "sorted_corr = filtered_corr.sort_values(ascending=False)\n",
    "\n",
    "# Mostrar las variables con mayor correlación\n",
    "print(sorted_corr)"
   ]
  },
  {
   "cell_type": "code",
   "execution_count": null,
   "id": "c01b6f32",
   "metadata": {},
   "outputs": [],
   "source": [
    "'''\n",
    "Conclusion Pendiente\n",
    "'''"
   ]
  },
  {
   "cell_type": "code",
   "execution_count": null,
   "id": "1021652f",
   "metadata": {},
   "outputs": [],
   "source": [
    "# feature selection - Selección de caracteristicas univariadas - Regresión Lineal"
   ]
  },
  {
   "cell_type": "code",
   "execution_count": 3,
   "id": "3a0202f0",
   "metadata": {},
   "outputs": [
    {
     "name": "stdout",
     "output_type": "stream",
     "text": [
      "Características seleccionadas:\n",
      "Index(['MP', 'Starts', 'Min', '90s', 'Shots', 'SoT', 'SoT%', 'G/Sh', 'G/SoT',\n",
      "       'ShoPK', 'PKatt', 'PasTotPrgDist', 'SCA', 'TouDef3rd', 'TouAtt3rd',\n",
      "       'TouAttPen', 'CPA', 'RecProg', 'Pos_DF', 'Pos_FW'],\n",
      "      dtype='object')\n"
     ]
    }
   ],
   "source": [
    "from sklearn.feature_selection import SelectKBest, f_regression\n",
    "\n",
    "#Data Frame\n",
    "df = pd.read_csv(ruta_archivo, encoding='ISO-8859-1', delimiter=';')\n",
    "\n",
    "# Crear un nuevo DataFrame sin la fila del jugador Erling Haaland\n",
    "df = df[df['Player'] != 'Erling Haaland']\n",
    "\n",
    "# Convertir variables categóricas en numéricas\n",
    "df_numerical = pd.get_dummies(df)\n",
    "\n",
    "# Separar las variables predictoras (X) y la variable objetivo (y)\n",
    "X = df_numerical.drop('Goals', axis=1)\n",
    "y = df_numerical['Goals']\n",
    "\n",
    "# Aplicar selección univariada con función de puntuación f_regression\n",
    "selector = SelectKBest(score_func=f_regression, k=20)  # Seleccionar las 5 mejores características\n",
    "X_selected = selector.fit_transform(X, y)\n",
    "\n",
    "# Obtener los índices de las características seleccionadas\n",
    "selected_indices = selector.get_support(indices=True)\n",
    "\n",
    "# Obtener los nombres de las características seleccionadas\n",
    "selected_features = X.columns[selected_indices]\n",
    "\n",
    "# Mostrar las características seleccionadas\n",
    "print(\"Características seleccionadas:\")\n",
    "print(selected_features)"
   ]
  },
  {
   "cell_type": "code",
   "execution_count": null,
   "id": "8d1008d3",
   "metadata": {},
   "outputs": [],
   "source": [
    "'''\n",
    "A continuación, se presentan posibles conclusiones basadas en estas características:\n",
    "\n",
    "'MP' (Minutos Jugados): Esta variable indica la cantidad de minutos que un jugador ha estado en el campo. Una mayor cantidad \n",
    "de minutos jugados podría indicar la importancia y participación activa del jugador en los partidos.\n",
    "\n",
    "'G/Sh' (Goles por Remate): Esta variable representa la eficacia de un jugador para convertir goles en relación con la \n",
    "cantidad de remates realizados. Un valor más alto indica una mayor eficacia y capacidad para marcar goles.\n",
    "\n",
    "'G/SoT' (Goles por Tiros a Puerta): Esta variable mide la eficacia de un jugador para marcar goles en relación con los \n",
    "tiros a puerta realizados. Un valor más alto indica una mayor eficacia y capacidad para convertir tiros a puerta en goles.\n",
    "\n",
    "'ShoPK' (Penales Anotados): Esta variable indica la cantidad de penales que un jugador ha anotado. Un jugador con una \n",
    "alta cantidad de penales anotados puede ser considerado como un buen ejecutante de penales y tener una habilidad especial \n",
    "para convertirlos en goles.\n",
    "\n",
    "'PKatt' (Penales Intentados): Esta variable representa la cantidad de penales que un jugador ha intentado ejecutar. \n",
    "Una alta cantidad de penales intentados puede indicar que el jugador es considerado como una opción frecuente para ejecutar \n",
    "penales en su equipo.\n",
    "'''"
   ]
  },
  {
   "cell_type": "code",
   "execution_count": 100,
   "id": "a34b892a",
   "metadata": {
    "scrolled": true
   },
   "outputs": [
    {
     "name": "stdout",
     "output_type": "stream",
     "text": [
      "Mean Squared Error (MSE): 1.6506476974806457\n",
      "R-squared (R2): 0.5794988240107412\n"
     ]
    }
   ],
   "source": [
    "from sklearn.linear_model import LinearRegression\n",
    "from sklearn.model_selection import train_test_split\n",
    "from sklearn.metrics import mean_squared_error, r2_score\n",
    "\n",
    "#Data Frame\n",
    "df = pd.read_csv(ruta_archivo, encoding='ISO-8859-1', delimiter=';')\n",
    "\n",
    "# Convertir variables categóricas en numéricas\n",
    "df_numerical = pd.get_dummies(df)\n",
    "\n",
    "# Separar las variables predictoras (X) y la variable objetivo (y)\n",
    "X = df[['MP', 'Starts', 'Min', '90s', 'Shots', 'SoT', 'SoT%', 'G/Sh', 'G/SoT',\n",
    "       'ShoPK', 'PKatt', 'PasTotPrgDist', 'TouDefPen', 'TouDef3rd',\n",
    "       'TouAtt3rd', 'TouAttPen', 'CPA', 'RecProg']]\n",
    "y = df['Goals']\n",
    "\n",
    "# Dividir el conjunto de datos en entrenamiento y prueba\n",
    "X_train, X_test, y_train, y_test = train_test_split(X, y, test_size=0.2, random_state=42)\n",
    "\n",
    "# Crear y entrenar el modelo de Regresión Lineal\n",
    "model = LinearRegression()\n",
    "model.fit(X_train, y_train)\n",
    "\n",
    "# Realizar predicciones en el conjunto de prueba\n",
    "y_pred = model.predict(X_test)\n",
    "\n",
    "# Calcular métricas para validar el modelo\n",
    "mse = mean_squared_error(y_test, y_pred)\n",
    "r2 = r2_score(y_test, y_pred)\n",
    "\n",
    "# Imprimir métricas\n",
    "print(\"Mean Squared Error (MSE):\", mse)\n",
    "print(\"R-squared (R2):\", r2)"
   ]
  },
  {
   "cell_type": "code",
   "execution_count": null,
   "id": "8a3556d5",
   "metadata": {},
   "outputs": [],
   "source": [
    "'''\n",
    "El modelo de regresión lineal tiene un Mean Squared Error (MSE) de 1.65 y un coeficiente de determinación (R-squared) de 0.58. \n",
    "Estos resultados indican que el modelo tiene un nivel moderado de precisión para predecir los goles marcados por los jugadores. \n",
    "Sin embargo, aún existe cierto margen de error en las predicciones. \n",
    "Se requiere una evaluación adicional y considerar otros modelos para mejorar el rendimiento.\n",
    "'''"
   ]
  },
  {
   "cell_type": "code",
   "execution_count": 92,
   "id": "198784bf",
   "metadata": {},
   "outputs": [
    {
     "name": "stdout",
     "output_type": "stream",
     "text": [
      "Características seleccionadas:\n",
      "Index(['PasAss', 'TB', 'GCA', 'GcaPassLive', 'Player_Levin Öztunalý'], dtype='object')\n"
     ]
    }
   ],
   "source": [
    "#Data Frame\n",
    "df = pd.read_csv(ruta_archivo, encoding='ISO-8859-1', delimiter=';')\n",
    "\n",
    "# Convertir variables categóricas en numéricas\n",
    "df_numerical = pd.get_dummies(df)\n",
    "\n",
    "# Separar las variables predictoras (X) y la variable objetivo (y)\n",
    "X = df_numerical.drop('Assists', axis=1)\n",
    "y = df_numerical['Assists']\n",
    "\n",
    "# Aplicar selección univariada con función de puntuación f_regression\n",
    "selector = SelectKBest(score_func=f_regression, k=5)  # Seleccionar las 5 mejores características\n",
    "X_selected = selector.fit_transform(X, y)\n",
    "\n",
    "# Obtener los índices de las características seleccionadas\n",
    "selected_indices = selector.get_support(indices=True)\n",
    "\n",
    "# Obtener los nombres de las características seleccionadas\n",
    "selected_features = X.columns[selected_indices]\n",
    "\n",
    "# Mostrar las características seleccionadas\n",
    "print(\"Características seleccionadas:\")\n",
    "print(selected_features)"
   ]
  },
  {
   "cell_type": "code",
   "execution_count": null,
   "id": "a4c2a488",
   "metadata": {},
   "outputs": [],
   "source": [
    "'''\n",
    "A continuación, se presentan posibles conclusiones basadas en estas características:\n",
    "\n",
    "'PasAss' (Pases Asistidos): Esta variable indica la cantidad de pases que resultaron en asistencias de gol. Una mayor \n",
    "cantidad de pases asistidos puede indicar la capacidad de un jugador para crear oportunidades de gol para sus compañeros \n",
    "de equipo.\n",
    "\n",
    "'TB' (Balones tocados): Esta variable representa la cantidad de veces que un jugador ha tocado el balón durante los partidos. \n",
    "Un mayor número de balones tocados puede indicar una mayor participación y presencia del jugador en el juego.\n",
    "\n",
    "'GCA' (Acciones de Contribución al Gol): Esta variable engloba diferentes acciones que contribuyen directa o indirectamente \n",
    "a la generación de goles, como pases clave, faltas recibidas, regates exitosos, entre otros. Un mayor valor en esta variable \n",
    "puede indicar una mayor participación en acciones ofensivas y en la generación de oportunidades de gol.\n",
    "\n",
    "'GcaPassLive' (Acciones de Contribución al Gol a través de Pases en Juego): Esta variable representa las acciones de \n",
    "contribución al gol específicamente a través de pases en juego. Un mayor valor en esta variable puede indicar la habilidad \n",
    "de un jugador para crear oportunidades de gol mediante pases precisos y efectivos durante el desarrollo del juego.\n",
    "\n",
    "'Player_Levin Öztunalý': Esta variable representa la presencia o ausencia del jugador Levin Öztunalý en el conjunto de datos. \n",
    "Su inclusión como característica seleccionada indica que la presencia o participación de este jugador puede tener un impacto \n",
    "significativo en el número de asistencias.\n",
    "'''"
   ]
  },
  {
   "cell_type": "code",
   "execution_count": 125,
   "id": "cda3df3a",
   "metadata": {},
   "outputs": [
    {
     "name": "stdout",
     "output_type": "stream",
     "text": [
      "Mean Squared Error (MSE): 0.07760172475520394\n",
      "R-squared (R2): 0.5545514625280885\n"
     ]
    }
   ],
   "source": [
    "#Data Frame\n",
    "df = pd.read_csv(ruta_archivo, encoding='ISO-8859-1', delimiter=';')\n",
    "\n",
    "# Convertir variables categóricas en numéricas\n",
    "df_numerical = pd.get_dummies(df)\n",
    "\n",
    "# Separar las variables predictoras (X) y la variable objetivo (y)\n",
    "X = df[['PasAss', 'TB', 'GCA', 'GcaPassLive','PasShoAtt']]\n",
    "y = df['Assists']\n",
    "\n",
    "# Dividir el conjunto de datos en entrenamiento y prueba\n",
    "X_train, X_test, y_train, y_test = train_test_split(X, y, test_size=0.25, random_state=42)\n",
    "\n",
    "# Crear y entrenar el modelo de Regresión Lineal\n",
    "model = LinearRegression()\n",
    "model.fit(X_train, y_train)\n",
    "\n",
    "# Realizar predicciones en el conjunto de prueba\n",
    "y_pred = model.predict(X_test)\n",
    "\n",
    "# Calcular métricas para validar el modelo\n",
    "mse = mean_squared_error(y_test, y_pred)\n",
    "r2 = r2_score(y_test, y_pred)\n",
    "\n",
    "# Imprimir métricas\n",
    "print(\"Mean Squared Error (MSE):\", mse)\n",
    "print(\"R-squared (R2):\", r2)"
   ]
  },
  {
   "cell_type": "code",
   "execution_count": null,
   "id": "e605b9e5",
   "metadata": {},
   "outputs": [],
   "source": [
    "'''\n",
    "El modelo de regresión lineal tiene un Mean Squared Error (MSE) de 0.0776 y un coeficiente de determinación (R^2) de 0.5546. \n",
    "Estos resultados indican que el modelo explica aproximadamente el 55.46% de la variabilidad de los datos. Sin embargo, \n",
    "el MSE indica un error cuadrático medio relativamente alto, lo que sugiere que el modelo puede tener dificultades para \n",
    "hacer predicciones precisas.\n",
    "'''"
   ]
  }
 ],
 "metadata": {
  "kernelspec": {
   "display_name": "Python 3 (ipykernel)",
   "language": "python",
   "name": "python3"
  },
  "language_info": {
   "codemirror_mode": {
    "name": "ipython",
    "version": 3
   },
   "file_extension": ".py",
   "mimetype": "text/x-python",
   "name": "python",
   "nbconvert_exporter": "python",
   "pygments_lexer": "ipython3",
   "version": "3.8.3"
  }
 },
 "nbformat": 4,
 "nbformat_minor": 5
}
