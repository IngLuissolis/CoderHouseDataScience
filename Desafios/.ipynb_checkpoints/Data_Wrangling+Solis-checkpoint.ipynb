{
 "cells": [
  {
   "cell_type": "code",
   "execution_count": 1,
   "id": "320f59df",
   "metadata": {},
   "outputs": [
    {
     "data": {
      "text/plain": [
       "'\\nMotivación: El análisis de datos en el fútbol ha ganado una gran importancia en los últimos años, ya que proporciona \\ninformación valiosa sobre el desempeño de los jugadores y equipos. En este contexto, el presente conjunto de datos \\nofrece una amplia variedad de variables que capturan diversos aspectos del juego. Describir estas variables de manera \\nprecisa y comprensible es fundamental para que entrenadores, analistas y aficionados puedan interpretar y utilizar la \\ninformación de manera efectiva.\\n\\nAudiencia: Este resumen está dirigido a entrenadores, analistas y aficionados del fútbol que estén interesados en comprender\\ny utilizar el conjunto de datos proporcionado. La descripción detallada de las variables les permitirá tener una visión \\ngeneral de la información disponible y utilizarla para evaluar el rendimiento de los jugadores en diferentes aspectos \\ndel juego, como goles, tiros, pases, regates, defensa, entre otros. Además, este resumen también puede ser útil para \\ninvestigadores o estudiantes que estén interesados en el análisis de datos en el fútbol y deseen explorar más a fondo el \\nconjunto de datos proporcionado.\\n'"
      ]
     },
     "execution_count": 1,
     "metadata": {},
     "output_type": "execute_result"
    }
   ],
   "source": [
    "# Abstracto - Vendeme esta Pluma!!!\n",
    "'''\n",
    "Motivación: El análisis de datos en el fútbol ha ganado una gran importancia en los últimos años, ya que proporciona \n",
    "información valiosa sobre el desempeño de los jugadores y equipos. En este contexto, el presente conjunto de datos \n",
    "ofrece una amplia variedad de variables que capturan diversos aspectos del juego. Describir estas variables de manera \n",
    "precisa y comprensible es fundamental para que entrenadores, analistas y aficionados puedan interpretar y utilizar la \n",
    "información de manera efectiva.\n",
    "\n",
    "Audiencia: Este resumen está dirigido a entrenadores, analistas y aficionados del fútbol que estén interesados en comprender\n",
    "y utilizar el conjunto de datos proporcionado. La descripción detallada de las variables les permitirá tener una visión \n",
    "general de la información disponible y utilizarla para evaluar el rendimiento de los jugadores en diferentes aspectos \n",
    "del juego, como goles, tiros, pases, regates, defensa, entre otros. Además, este resumen también puede ser útil para \n",
    "investigadores o estudiantes que estén interesados en el análisis de datos en el fútbol y deseen explorar más a fondo el \n",
    "conjunto de datos proporcionado.\n",
    "'''"
   ]
  },
  {
   "cell_type": "code",
   "execution_count": 2,
   "id": "d6f81164",
   "metadata": {},
   "outputs": [
    {
     "data": {
      "text/plain": [
       "'\\nAlgunas posibles preguntas/hipótesis que podríamos resolver mediante el análisis de los datos descritos podrían ser:\\n\\n1. ¿Cuáles son los jugadores más efectivos en términos de goles marcados? ¿Existen diferencias significativas entre \\nlos distintos equipos en cuanto a la producción de goles?\\n2. ¿Existe una relación entre la precisión de los pases de un jugador y su capacidad para crear oportunidades de gol \\npara su equipo?\\n3. ¿Cuál es el porcentaje de éxito de los regates realizados por los jugadores? ¿Algunos jugadores destacan por su habilidad\\npara eludir a los defensores?\\n4. ¿Qué jugadores tienen la mejor capacidad defensiva en términos de bloqueo de tiros y recuperación de balones?\\n5. ¿Existe alguna correlación entre la edad de los jugadores y su rendimiento en el campo?\\n6. ¿Hay diferencias significativas en el rendimiento de los jugadores en función de su posición en el campo (delantero, \\ncentrocampista, defensor, portero)?\\n7. ¿Existe alguna relación entre la altura de los jugadores y su capacidad para ganar duelos aéreos?\\n8. ¿Cuál es el equipo con el mejor desempeño general en términos de todas las variables analizadas?\\n\\nEstas preguntas y hipótesis son solo ejemplos y podrían variar dependiendo de los intereses y objetivos específicos del \\nanálisis de datos que se realice.\\n'"
      ]
     },
     "execution_count": 2,
     "metadata": {},
     "output_type": "execute_result"
    }
   ],
   "source": [
    "#Preguntas / Hipotesis\n",
    "'''\n",
    "Algunas posibles preguntas/hipótesis que podríamos resolver mediante el análisis de los datos descritos podrían ser:\n",
    "\n",
    "1. ¿Cuáles son los jugadores más efectivos en términos de goles marcados? ¿Existen diferencias significativas entre \n",
    "los distintos equipos en cuanto a la producción de goles?\n",
    "2. ¿Existe una relación entre la precisión de los pases de un jugador y su capacidad para crear oportunidades de gol \n",
    "para su equipo?\n",
    "3. ¿Cuál es el porcentaje de éxito de los regates realizados por los jugadores? ¿Algunos jugadores destacan por su habilidad\n",
    "para eludir a los defensores?\n",
    "4. ¿Qué jugadores tienen la mejor capacidad defensiva en términos de bloqueo de tiros y recuperación de balones?\n",
    "5. ¿Existe alguna correlación entre la edad de los jugadores y su rendimiento en el campo?\n",
    "6. ¿Hay diferencias significativas en el rendimiento de los jugadores en función de su posición en el campo (delantero, \n",
    "centrocampista, defensor, portero)?\n",
    "7. ¿Existe alguna relación entre la altura de los jugadores y su capacidad para ganar duelos aéreos?\n",
    "8. ¿Cuál es el equipo con el mejor desempeño general en términos de todas las variables analizadas?\n",
    "\n",
    "Estas preguntas y hipótesis son solo ejemplos y podrían variar dependiendo de los intereses y objetivos específicos del \n",
    "análisis de datos que se realice.\n",
    "'''"
   ]
  },
  {
   "cell_type": "code",
   "execution_count": 3,
   "id": "5db7ce95",
   "metadata": {},
   "outputs": [
    {
     "data": {
      "text/plain": [
       "'\\nObjetivo: \\nAnalizar el rendimiento de los jugadores y equipos de fútbol utilizando variables como goles marcados, \\nprecisión de pases, regates exitosos, habilidades defensivas, edad, posición en el campo, altura, entre otros, con el fin \\nde identificar patrones y relaciones significativas. Además, determinar el equipo con el mejor desempeño general en función \\nde todas las variables analizadas.\\n\\nContexto Comercial:\\nEn el contexto comercial, nos encontramos en la industria del fútbol y nuestro objetivo es proporcionar información y \\nanálisis útiles para diferentes actores dentro de este ámbito. Esto puede incluir clubes de fútbol, directores técnicos, \\nagentes de jugadores y otros profesionales involucrados en la toma de decisiones estratégicas y operativas.\\n\\nProblema Comercial:\\nEl problema comercial que abordamos es la necesidad de comprender y evaluar el rendimiento de los jugadores y equipos de \\nfútbol en función de diversas variables. Esto es crucial para la identificación de talentos, la selección de jugadores, el \\nanálisis comparativo de equipos y la toma de decisiones relacionadas con el desarrollo de estrategias de juego y fichajes.\\n\\nContexto Analítico:\\nEn el contexto analítico, utilizaremos técnicas de análisis de datos para examinar y comprender los patrones, tendencias y \\nrelaciones existentes en los datos recopilados. Aplicaremos métodos estadísticos y de visualización para explorar las \\nvariables relevantes y extraer información significativa que pueda respaldar la toma de decisiones en el ámbito futbolístico.\\n\\nExploración de Datos (EDA):\\nLa exploración de datos (EDA) se llevará a cabo mediante el análisis detallado de las variables disponibles, utilizando \\nherramientas y técnicas de programación en Python. Realizaremos cálculos estadísticos, visualizaciones gráficas y otras \\ntécnicas exploratorias para comprender mejor el comportamiento de los jugadores y equipos en términos de goles marcados, \\nprecisión de pases, regates exitosos, habilidades defensivas, edad, posición en el campo, altura y otras variables relevantes.\\n\\nA través de este análisis, buscamos descubrir patrones, correlaciones y tendencias significativas que puedan brindar \\ninsights valiosos para los actores involucrados en la industria del fútbol y ayudarles a tomar decisiones más informadas \\ny estratégicas.\\n'"
      ]
     },
     "execution_count": 3,
     "metadata": {},
     "output_type": "execute_result"
    }
   ],
   "source": [
    "'''\n",
    "Objetivo: \n",
    "Analizar el rendimiento de los jugadores y equipos de fútbol utilizando variables como goles marcados, \n",
    "precisión de pases, regates exitosos, habilidades defensivas, edad, posición en el campo, altura, entre otros, con el fin \n",
    "de identificar patrones y relaciones significativas. Además, determinar el equipo con el mejor desempeño general en función \n",
    "de todas las variables analizadas.\n",
    "\n",
    "Contexto Comercial:\n",
    "En el contexto comercial, nos encontramos en la industria del fútbol y nuestro objetivo es proporcionar información y \n",
    "análisis útiles para diferentes actores dentro de este ámbito. Esto puede incluir clubes de fútbol, directores técnicos, \n",
    "agentes de jugadores y otros profesionales involucrados en la toma de decisiones estratégicas y operativas.\n",
    "\n",
    "Problema Comercial:\n",
    "El problema comercial que abordamos es la necesidad de comprender y evaluar el rendimiento de los jugadores y equipos de \n",
    "fútbol en función de diversas variables. Esto es crucial para la identificación de talentos, la selección de jugadores, el \n",
    "análisis comparativo de equipos y la toma de decisiones relacionadas con el desarrollo de estrategias de juego y fichajes.\n",
    "\n",
    "Contexto Analítico:\n",
    "En el contexto analítico, utilizaremos técnicas de análisis de datos para examinar y comprender los patrones, tendencias y \n",
    "relaciones existentes en los datos recopilados. Aplicaremos métodos estadísticos y de visualización para explorar las \n",
    "variables relevantes y extraer información significativa que pueda respaldar la toma de decisiones en el ámbito futbolístico.\n",
    "\n",
    "Exploración de Datos (EDA):\n",
    "La exploración de datos (EDA) se llevará a cabo mediante el análisis detallado de las variables disponibles, utilizando \n",
    "herramientas y técnicas de programación en Python. Realizaremos cálculos estadísticos, visualizaciones gráficas y otras \n",
    "técnicas exploratorias para comprender mejor el comportamiento de los jugadores y equipos en términos de goles marcados, \n",
    "precisión de pases, regates exitosos, habilidades defensivas, edad, posición en el campo, altura y otras variables relevantes.\n",
    "\n",
    "A través de este análisis, buscamos descubrir patrones, correlaciones y tendencias significativas que puedan brindar \n",
    "insights valiosos para los actores involucrados en la industria del fútbol y ayudarles a tomar decisiones más informadas \n",
    "y estratégicas.\n",
    "'''"
   ]
  },
  {
   "cell_type": "code",
   "execution_count": 4,
   "id": "a42dc865",
   "metadata": {},
   "outputs": [],
   "source": [
    "#Analisis Exploratorio de Datos (EDA)"
   ]
  },
  {
   "cell_type": "code",
   "execution_count": 77,
   "id": "2ef51c54",
   "metadata": {},
   "outputs": [
    {
     "name": "stdout",
     "output_type": "stream",
     "text": [
      "   Rk             Player Nation   Pos         Squad            Comp  Age  \\\n",
      "0   1   Brenden Aaronson    USA  MFFW  Leeds United  Premier League   22   \n",
      "1   2   Yunis Abdelhamid    MAR    DF         Reims         Ligue 1   35   \n",
      "2   3      Himad Abdelli    FRA  MFFW        Angers         Ligue 1   23   \n",
      "3   4  Salis Abdul Samed    GHA    MF          Lens         Ligue 1   22   \n",
      "4   5    Laurent Abergel    FRA    MF       Lorient         Ligue 1   30   \n",
      "\n",
      "   Born  MP  Starts  ...   Off   Crs  TklW  PKwon  PKcon    OG  Recov  AerWon  \\\n",
      "0  2000  20      19  ...  0.17  2.54  0.51    0.0    0.0  0.00   4.86    0.34   \n",
      "1  1987  22      22  ...  0.05  0.18  1.59    0.0    0.0  0.00   6.64    2.18   \n",
      "2  1999  14       8  ...  0.00  1.05  1.40    0.0    0.0  0.00   8.14    0.93   \n",
      "3  2000  20      20  ...  0.00  0.35  0.80    0.0    0.0  0.05   6.60    0.50   \n",
      "4  1993  15      15  ...  0.00  0.23  2.02    0.0    0.0  0.00   6.51    0.31   \n",
      "\n",
      "   AerLost  AerWon%  \n",
      "0     1.19     22.2  \n",
      "1     1.23     64.0  \n",
      "2     1.05     47.1  \n",
      "3     0.50     50.0  \n",
      "4     0.39     44.4  \n",
      "\n",
      "[5 rows x 124 columns]\n"
     ]
    }
   ],
   "source": [
    "import pandas as pd\n",
    "import numpy as np\n",
    "import matplotlib.pyplot as plt\n",
    "import seaborn as sns\n",
    "\n",
    "ruta_archivo = '../DataSets/2022-2023FootballPlayerStats.csv'\n",
    "#df = pd.read_csv(ruta_archivo, encoding='ISO-8859-1', delimiter=';')\n",
    "# Leer el archivo CSV con el parámetro na_values\n",
    "df = pd.read_csv(ruta_archivo, encoding='ISO-8859-1', delimiter=';', na_values='?')\n",
    "\n",
    "# Ver las primeras filas del dataset\n",
    "print(df.head())"
   ]
  },
  {
   "cell_type": "code",
   "execution_count": 6,
   "id": "761c7f23",
   "metadata": {},
   "outputs": [],
   "source": [
    "#Identificando Valores Perdidos"
   ]
  },
  {
   "cell_type": "code",
   "execution_count": 78,
   "id": "f247100a",
   "metadata": {},
   "outputs": [
    {
     "name": "stdout",
     "output_type": "stream",
     "text": [
      "Fila: 1875, columna: Nation, valor: nan\n"
     ]
    }
   ],
   "source": [
    "# Encontrar las filas y columnas que contienen NaN\n",
    "filas_columnas_con_nan = []\n",
    "\n",
    "for indice, fila in df.iterrows():\n",
    "    for columna in df.columns:\n",
    "        if pd.isna(fila[columna]):\n",
    "            filas_columnas_con_nan.append((indice, columna))\n",
    "\n",
    "# Mostrar los resultados\n",
    "for fila, columna in filas_columnas_con_nan:\n",
    "    valor = df.loc[fila, columna]\n",
    "    print(f\"Fila: {fila}, columna: {columna}, valor: {valor}\")\n"
   ]
  },
  {
   "cell_type": "code",
   "execution_count": 79,
   "id": "02f23b20",
   "metadata": {},
   "outputs": [
    {
     "name": "stdout",
     "output_type": "stream",
     "text": [
      "Fila: 95, columna: Player, valor: Komnen Andri?\n",
      "Fila: 120, columna: Player, valor: Marko Arnautovi?\n",
      "Fila: 158, columna: Player, valor: Sr?an Babi?\n",
      "Fila: 209, columna: Player, valor: Toma Bai?\n",
      "Fila: 232, columna: Player, valor: Asmir Begovi?\n",
      "Fila: 264, columna: Player, valor: Bartosz Bereszy?ski\n",
      "Fila: 278, columna: Player, valor: Ermin Bi?ak?i?\n",
      "Fila: 287, columna: Player, valor: Veljko Birman?evi?\n",
      "Fila: 290, columna: Player, valor: Kristijan Bistrovi?\n",
      "Fila: 298, columna: Player, valor: Miha Bla?i?\n",
      "Fila: 338, columna: Player, valor: Domagoj Bradari?\n",
      "Fila: 355, columna: Player, valor: Marcelo Brozovi?\n",
      "Fila: 380, columna: Player, valor: Marcin Bu?ka\n",
      "Fila: 397, columna: Player, valor: Duje ?aleta-Car\n",
      "Fila: 398, columna: Player, valor: Duje ?aleta-Car\n",
      "Fila: 493, columna: Player, valor: Vlad Chiriche?\n",
      "Fila: 521, columna: Player, valor: David ?olina\n",
      "Fila: 567, columna: Player, valor: Domen ?rnigoj\n",
      "Fila: 609, columna: Player, valor: Pawe? Dawidowicz\n",
      "Fila: 639, columna: Player, valor: Ermedin Demirovi?\n",
      "Fila: 708, columna: Player, valor: Marko Dmitrovi?\n",
      "Fila: 738, columna: Player, valor: Bart?omiej Dr?gowski\n",
      "Fila: 757, columna: Player, valor: Edin D?eko\n",
      "Fila: 808, columna: Player, valor: ?ukasz Fabia?ski\n",
      "Fila: 884, columna: Player, valor: Bartol Franji?\n",
      "Fila: 885, columna: Player, valor: Przemys?aw Frankowski\n",
      "Fila: 953, columna: Player, valor: Rafa? Gikiewicz\n",
      "Fila: 1004, columna: Player, valor: Adrian Grbi?\n",
      "Fila: 1005, columna: Player, valor: Ivo Grbi?\n",
      "Fila: 1073, columna: Player, valor: Samir Handanovi?\n",
      "Fila: 1119, columna: Player, valor: Adam Hlo?ek\n",
      "Fila: 1136, columna: Player, valor: Luká Hrádeck?\n",
      "Fila: 1152, columna: Player, valor: Arijon Ibrahimovi?\n",
      "Fila: 1159, columna: Player, valor: Ivan Ili?\n",
      "Fila: 1184, columna: Player, valor: Kristijan Jaki?\n",
      "Fila: 1209, columna: Player, valor: ?órir Jóhann Helgason\n",
      "Fila: 1223, columna: Player, valor: Stevan Joveti?\n",
      "Fila: 1224, columna: Player, valor: Luka Jovi?\n",
      "Fila: 1234, columna: Player, valor: Josip Juranovi?\n",
      "Fila: 1240, columna: Player, valor: Pavel Kade?ábek\n",
      "Fila: 1256, columna: Player, valor: Jakub Kami?ski\n",
      "Fila: 1257, columna: Player, valor: Marcin Kami?ski\n",
      "Fila: 1318, columna: Player, valor: Filip Kosti?\n",
      "Fila: 1319, columna: Player, valor: Filip Kosti?\n",
      "Fila: 1327, columna: Player, valor: Mateo Kova?i?\n",
      "Fila: 1332, columna: Player, valor: Andrej Kramari?\n",
      "Fila: 1338, columna: Player, valor: Rade Kruni?\n",
      "Fila: 1390, columna: Player, valor: Marko Lazeti?\n",
      "Fila: 1391, columna: Player, valor: Darko Lazovi?\n",
      "Fila: 1468, columna: Player, valor: Sandi Lovri?\n",
      "Fila: 1482, columna: Player, valor: Saa Luki?\n",
      "Fila: 1483, columna: Player, valor: Saa Luki?\n",
      "Fila: 1514, columna: Player, valor: Nemanja Maksimovi?\n",
      "Fila: 1555, columna: Player, valor: R?zvan Marin\n",
      "Fila: 1580, columna: Player, valor: Adam Marui?\n",
      "Fila: 1584, columna: Player, valor: Erhan Maovi?\n",
      "Fila: 1591, columna: Player, valor: Nemanja Mati?\n",
      "Fila: 1657, columna: Player, valor: Nikola Milenkovi?\n",
      "Fila: 1660, columna: Player, valor: Sergej Milinkovi?-Savi?\n",
      "Fila: 1661, columna: Player, valor: Vanja Milinkovi?-Savi?\n",
      "Fila: 1663, columna: Player, valor: Luka Milivojevi?\n",
      "Fila: 1668, columna: Player, valor: Marko Milovanovi?\n",
      "Fila: 1680, columna: Player, valor: Aleksandar Mitrovi?\n",
      "Fila: 1681, columna: Player, valor: Stefan Mitrovi?\n",
      "Fila: 1685, columna: Player, valor: Luka Modri?\n",
      "Fila: 1762, columna: Player, valor: Matija Nastasi?\n",
      "Fila: 1854, columna: Player, valor: Mislav Ori?\n",
      "Fila: 1890, columna: Player, valor: Milo Pantovi?\n",
      "Fila: 1904, columna: Player, valor: Marco Paali?\n",
      "Fila: 1905, columna: Player, valor: Mario Paali?\n",
      "Fila: 1914, columna: Player, valor: Ji?í Pavlenka\n",
      "Fila: 1952, columna: Player, valor: Ivan Perii?\n",
      "Fila: 1967, columna: Player, valor: Krzysztof Pi?tek\n",
      "Fila: 1992, columna: Player, valor: Marin Pongra?i?\n",
      "Fila: 1994, columna: Player, valor: ?ukasz Por?ba\n",
      "Fila: 2006, columna: Player, valor: Sanjin Prci?\n",
      "Fila: 2023, columna: Player, valor: Nemanja Radonji?\n",
      "Fila: 2024, columna: Player, valor: Ivan Radovanovi?\n",
      "Fila: 2025, columna: Player, valor: Ionu? Radu\n",
      "Fila: 2026, columna: Player, valor: Ionu? Radu\n",
      "Fila: 2028, columna: Player, valor: Predrag Rajkovi?\n",
      "Fila: 2029, columna: Player, valor: Ivan Rakiti?\n",
      "Fila: 2053, columna: Player, valor: Ante Rebi?\n",
      "Fila: 2151, columna: Player, valor: Halid abanovi?\n",
      "Fila: 2214, columna: Player, valor: Stefan Savi?\n",
      "Fila: 2240, columna: Player, valor: Haris Seferovi?\n",
      "Fila: 2294, columna: Player, valor: ?ukasz Skorupski\n",
      "Fila: 2302, columna: Player, valor: Hrvoje Smol?i?\n",
      "Fila: 2327, columna: Player, valor: Tomá Sou?ek\n",
      "Fila: 2348, columna: Player, valor: Josip Stanii?\n",
      "Fila: 2360, columna: Player, valor: Petar Stojanovi?\n",
      "Fila: 2377, columna: Player, valor: Ivan unji?\n",
      "Fila: 2384, columna: Player, valor: Wojciech Szcz?sny\n",
      "Fila: 2401, columna: Player, valor: Ciprian T?t?ru?anu\n",
      "Fila: 2416, columna: Player, valor: Aleksa Terzi?\n",
      "Fila: 2497, columna: Player, valor: Filip Uremovi?\n",
      "Fila: 2526, columna: Player, valor: Milo Veljkovi?\n",
      "Fila: 2567, columna: Player, valor: Duan Vlahovi?\n",
      "Fila: 2568, columna: Player, valor: Nikola Vlai?\n",
      "Fila: 2618, columna: Player, valor: Przemys?aw Wi?niewski\n",
      "Fila: 2671, columna: Player, valor: Piotr Zieli?ski\n",
      "Fila: 2684, columna: Player, valor: Szymon ?urkowski\n",
      "Fila: 2685, columna: Player, valor: Szymon ?urkowski\n",
      "Fila: 2687, columna: Player, valor: Milan ?uri?\n",
      "Fila: 2688, columna: Player, valor: Filip ?uri?i?\n",
      "Total de filas con '?': 105\n"
     ]
    }
   ],
   "source": [
    "# Encontrar las filas y columnas que contienen \"?\"\n",
    "filas_columnas_con_interrogante = []\n",
    "\n",
    "def buscar_interrogante(valor):\n",
    "    if isinstance(valor, str) and \"?\" in valor:\n",
    "        return True\n",
    "    else:\n",
    "        return False\n",
    "\n",
    "filas_columnas_con_interrogante = df.applymap(buscar_interrogante)\n",
    "\n",
    "# Mostrar los resultados y contar filas con \"?\"\n",
    "contador_filas_interrogante = 0\n",
    "\n",
    "for columna in filas_columnas_con_interrogante.columns:\n",
    "    filas_con_interrogante = filas_columnas_con_interrogante[columna]\n",
    "    filas_con_interrogante = filas_con_interrogante[filas_con_interrogante == True]\n",
    "    \n",
    "    for fila in filas_con_interrogante.index:\n",
    "        valor = df.loc[fila, columna]\n",
    "        print(f\"Fila: {fila}, columna: {columna}, valor: {valor}\")\n",
    "        contador_filas_interrogante += 1\n",
    "\n",
    "# Mostrar la cantidad de filas con \"?\"\n",
    "print(f\"Total de filas con '?': {contador_filas_interrogante}\")"
   ]
  },
  {
   "cell_type": "code",
   "execution_count": null,
   "id": "763758b4",
   "metadata": {},
   "outputs": [],
   "source": [
    "#Reemplazo de datos - 1 valor NaN"
   ]
  },
  {
   "cell_type": "code",
   "execution_count": 80,
   "id": "6b09ce51",
   "metadata": {},
   "outputs": [
    {
     "name": "stdout",
     "output_type": "stream",
     "text": [
      "        Rk      Player Nation Pos           Squad            Comp  Age  Born  \\\n",
      "1875  1876  David Ozoh    ENG  FW  Crystal Palace  Premier League   17  2005   \n",
      "\n",
      "      MP  Starts  ...  Off  Crs  TklW  PKwon  PKcon   OG  Recov  AerWon  \\\n",
      "1875   1       0  ...  0.0  0.0   0.0    0.0    0.0  0.0    0.0     0.0   \n",
      "\n",
      "      AerLost  AerWon%  \n",
      "1875      0.0      0.0  \n",
      "\n",
      "[1 rows x 124 columns]\n"
     ]
    }
   ],
   "source": [
    "# Cambiar el valor de la celda en la fila 1875 y columna \"Nation\"\n",
    "df.loc[1875, 'Nation'] = 'ENG'\n",
    "\n",
    "# Mostrar solo la fila 1875 del DataFrame\n",
    "fila_1875 = df.iloc[1875:1876]\n",
    "print(fila_1875)"
   ]
  },
  {
   "cell_type": "code",
   "execution_count": null,
   "id": "e901a784",
   "metadata": {},
   "outputs": [],
   "source": [
    "#Reemplazo de datos - caracter \"?\" en los nombres de jugadores - 105 valores"
   ]
  },
  {
   "cell_type": "code",
   "execution_count": 81,
   "id": "9e7e922c",
   "metadata": {},
   "outputs": [],
   "source": [
    "df.at[95, 'Player'] = 'Marko Arnautović'\n",
    "df.at[120, 'Player'] = 'Marko Arnautović'\n",
    "df.at[158, 'Player'] = 'Srđan Babić'\n",
    "df.at[209, 'Player'] = 'Toma Bašić'\n",
    "df.at[232, 'Player'] = 'Asmir Begović'\n",
    "df.at[264, 'Player'] = 'Bartosz Bereszyński'\n",
    "df.at[278, 'Player'] = 'Ermin Bičakčić'\n",
    "df.at[287, 'Player'] = 'Veljko Birmančević'\n",
    "df.at[290, 'Player'] = 'Kristijan Bistrović'\n",
    "df.at[298, 'Player'] = 'Miha Blažič'\n",
    "df.at[338, 'Player'] = 'Domagoj Bradarić'\n",
    "df.at[355, 'Player'] = 'Marcelo Brozović'\n",
    "df.at[380, 'Player'] = 'Marcin Bułka'\n",
    "df.at[397, 'Player'] = 'Duje Ćaleta-Car'\n",
    "df.at[398, 'Player'] = 'Duje Ćaleta-Car'\n",
    "df.at[493, 'Player'] = 'Vlad Chiricheș'\n",
    "df.at[521, 'Player'] = 'David Čolina'\n",
    "df.at[567, 'Player'] = 'Domen Črnigoj'\n",
    "df.at[609, 'Player'] = 'Paweł Dawidowicz'\n",
    "df.at[639, 'Player'] = 'Ermedin Demirović'\n",
    "df.at[708, 'Player'] = 'Marko Dmitrović'\n",
    "df.at[738, 'Player'] = 'Bartłomiej Drągowski'\n",
    "df.at[757, 'Player'] = 'Edin Džeko'\n",
    "df.at[808, 'Player'] = 'Łukasz Fabiański'\n",
    "df.at[884, 'Player'] = 'Bartol Franjić'\n",
    "df.at[885, 'Player'] = 'Przemysław Frankowski'\n",
    "df.at[953, 'Player'] = 'Rafał Gikiewicz'\n",
    "df.at[1004, 'Player'] = 'Adrian Grbić'\n",
    "df.at[1005, 'Player'] = 'Ivo Grbić'\n",
    "df.at[1073, 'Player'] = 'Samir Handanović'\n",
    "df.at[1119, 'Player'] = 'Adam Hložek'\n",
    "df.at[1136, 'Player'] = 'Lukáš Hrádecký'\n",
    "df.at[1152, 'Player'] = 'Arijanet Muric'\n",
    "df.at[1159, 'Player'] = 'Ivan Ilić'\n",
    "df.at[1184, 'Player'] = 'Kristijan Jakić'\n",
    "df.at[1209, 'Player'] = 'Óliver Sigurjónsson'\n",
    "df.at[1223, 'Player'] = 'Stevan Jovetić'\n",
    "df.at[1224, 'Player'] = 'Luka Jović'\n",
    "df.at[1234, 'Player'] = 'Josip Juranović'\n",
    "df.at[1240, 'Player'] = 'Pavel Kadeřábek'\n",
    "df.at[1256, 'Player'] = 'Jakub Kamiński'\n",
    "df.at[1257, 'Player'] = 'Marcin Kamiński'\n",
    "df.at[1318, 'Player'] = 'Filip Kostić'\n",
    "df.at[1319, 'Player'] = 'Filip Kostić'\n",
    "df.at[1327, 'Player'] = 'Mateo Kovačić'\n",
    "df.at[1332, 'Player'] = 'Andrej Kramarić'\n",
    "df.at[1338, 'Player'] = 'Rade Krunić'\n",
    "df.at[1390, 'Player'] = 'Marko Lazetić'\n",
    "df.at[1391, 'Player'] = 'Darko Lazović'\n",
    "df.at[1468, 'Player'] = 'Sandi Lovrić'\n",
    "df.at[1482, 'Player'] = 'Saša Lukić'\n",
    "df.at[1483, 'Player'] = 'Saša Lukić'\n",
    "df.at[1514, 'Player'] = 'Nemanja Maksimović'\n",
    "df.at[1555, 'Player'] = 'Răzvan Marin'\n",
    "df.at[1580, 'Player'] = 'Adam Marušić'\n",
    "df.at[1584, 'Player'] = 'Erhan Mašović'\n",
    "df.at[1591, 'Player'] = 'Nemanja Matić'\n",
    "df.at[1657, 'Player'] = 'Nikola Milenković'\n",
    "df.at[1660, 'Player'] = 'Sergej Milinković-Savić'\n",
    "df.at[1661, 'Player'] = 'Vanja Milinković-Savić'\n",
    "df.at[1663, 'Player'] = 'Luka Milivojević'\n",
    "df.at[1668, 'Player'] = 'Marko Milovanović'\n",
    "df.at[1680, 'Player'] = 'Aleksandar Mitrović'\n",
    "df.at[1681, 'Player'] = 'Stefan Mitrović'\n",
    "df.at[1685, 'Player'] = 'Luka Modrić'\n",
    "df.at[1762, 'Player'] = 'Matija Nastasić'\n",
    "df.at[1854, 'Player'] = 'Mislav Oršić'\n",
    "df.at[1890, 'Player'] = 'Miloš Pantović'\n",
    "df.at[1904, 'Player'] = 'Marco Pašalić'\n",
    "df.at[1905, 'Player'] = 'Mario Pašalić'\n",
    "df.at[1914, 'Player'] = 'Jiří Pavlenka'\n",
    "df.at[1952, 'Player'] = 'Ivan Perišić'\n",
    "df.at[1967, 'Player'] = 'Krzysztof Piątek'\n",
    "df.at[1992, 'Player'] = 'Marin Pongračić'\n",
    "df.at[1994, 'Player'] = 'Łukasz Poręba'\n",
    "df.at[2006, 'Player'] = 'Sanjin Prcić'\n",
    "df.at[2023, 'Player'] = 'Nemanja Radonjić'\n",
    "df.at[2024, 'Player'] = 'Ivan Radovanović'\n",
    "df.at[2025, 'Player'] = 'Ionuț Radu'\n",
    "df.at[2026, 'Player'] = 'Ionuț Radu'\n",
    "df.at[2028, 'Player'] = 'Predrag Rajković'\n",
    "df.at[2029, 'Player'] = 'Ivan Rakitić'\n",
    "df.at[2053, 'Player'] = 'Ante Rebić'\n",
    "df.at[2151, 'Player'] = 'Halid Šabanović'\n",
    "df.at[2214, 'Player'] = 'Stefan Savić'\n",
    "df.at[2240, 'Player'] = 'Haris Seferović'\n",
    "df.at[2294, 'Player'] = 'Łukasz Skorupski'\n",
    "df.at[2302, 'Player'] = 'Hrvoje Smolčić'\n",
    "df.at[2327, 'Player'] = 'Tomáš Souček'\n",
    "df.at[2348, 'Player'] = 'Josip Stanišić'\n",
    "df.at[2360, 'Player'] = 'Petar Stojanović'\n",
    "df.at[2377, 'Player'] = 'Ivan Šunjić'\n",
    "df.at[2384, 'Player'] = 'Wojciech Szczęsny'\n",
    "df.at[2401, 'Player'] = 'Ciprian Tătărușanu'\n",
    "df.at[2416, 'Player'] = 'Aleksa Terzić'\n",
    "df.at[2497, 'Player'] = 'Filip Uremović'\n",
    "df.at[2526, 'Player'] = 'Miloš Veljković'\n",
    "df.at[2567, 'Player'] = 'Dušan Vlahović'\n",
    "df.at[2568, 'Player'] = 'Nikola Vlašić'\n",
    "df.at[2618, 'Player'] = 'Przemysław Wiśniewski'\n",
    "df.at[2671, 'Player'] = 'Piotr Zieliński'\n",
    "df.at[2684, 'Player'] = 'Szymon Żurkowski'\n",
    "df.at[2685, 'Player'] = 'Szymon Żurkowski'\n",
    "df.at[2687, 'Player'] = 'Milan Škriniar'\n",
    "df.at[2688, 'Player'] = 'Filip Đuričić'"
   ]
  },
  {
   "cell_type": "code",
   "execution_count": null,
   "id": "4d3168a6",
   "metadata": {},
   "outputs": [],
   "source": [
    "#Chequeo Corrección Nombre de jugadores"
   ]
  },
  {
   "cell_type": "code",
   "execution_count": 82,
   "id": "bdf0e65b",
   "metadata": {},
   "outputs": [
    {
     "name": "stdout",
     "output_type": "stream",
     "text": [
      "Total de filas con '?': 0\n"
     ]
    }
   ],
   "source": [
    "# Encontrar las filas y columnas que contienen \"?\"\n",
    "filas_columnas_con_interrogante = []\n",
    "\n",
    "def buscar_interrogante(valor):\n",
    "    if isinstance(valor, str) and \"?\" in valor:\n",
    "        return True\n",
    "    else:\n",
    "        return False\n",
    "\n",
    "filas_columnas_con_interrogante = df.applymap(buscar_interrogante)\n",
    "\n",
    "# Mostrar los resultados y contar filas con \"?\"\n",
    "contador_filas_interrogante = 0\n",
    "\n",
    "for columna in filas_columnas_con_interrogante.columns:\n",
    "    filas_con_interrogante = filas_columnas_con_interrogante[columna]\n",
    "    filas_con_interrogante = filas_con_interrogante[filas_con_interrogante == True]\n",
    "    \n",
    "    for fila in filas_con_interrogante.index:\n",
    "        valor = df.loc[fila, columna]\n",
    "        print(f\"Fila: {fila}, columna: {columna}, valor: {valor}\")\n",
    "        contador_filas_interrogante += 1\n",
    "\n",
    "# Mostrar la cantidad de filas con \"?\"\n",
    "print(f\"Total de filas con '?': {contador_filas_interrogante}\")"
   ]
  },
  {
   "cell_type": "code",
   "execution_count": null,
   "id": "bc96c40b",
   "metadata": {},
   "outputs": [],
   "source": []
  }
 ],
 "metadata": {
  "kernelspec": {
   "display_name": "Python 3 (ipykernel)",
   "language": "python",
   "name": "python3"
  },
  "language_info": {
   "codemirror_mode": {
    "name": "ipython",
    "version": 3
   },
   "file_extension": ".py",
   "mimetype": "text/x-python",
   "name": "python",
   "nbconvert_exporter": "python",
   "pygments_lexer": "ipython3",
   "version": "3.8.3"
  }
 },
 "nbformat": 4,
 "nbformat_minor": 5
}
